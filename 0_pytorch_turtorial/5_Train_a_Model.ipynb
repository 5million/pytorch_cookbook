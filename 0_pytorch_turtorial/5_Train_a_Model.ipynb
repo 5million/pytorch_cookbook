{
 "cells": [
  {
   "cell_type": "code",
   "execution_count": 4,
   "id": "b6f0d101",
   "metadata": {},
   "outputs": [],
   "source": [
    "import torch\n",
    "import torchvision\n",
    "import torchvision.transforms as transforms\n",
    "\n",
    "# PyTorch TensorBoard support\n",
    "from torch.utils.tensorboard import SummaryWriter\n",
    "from datetime import datetime"
   ]
  },
  {
   "cell_type": "markdown",
   "id": "d42b55b7",
   "metadata": {},
   "source": [
    "# Introduction\n",
    "\n",
    "In past videos, we’ve discussed and demonstrated:\n",
    "\n",
    "* Building models with the neural network layers and functions of the torch.nn module\n",
    "* The mechanics of automated gradient computation, which is central to gradient-based model training\n",
    "* Using TensorBoard to visualize training progress and other activities\n",
    "\n",
    "# Dataset and DataLoader\n",
    "The Dataset and DataLoader classes encapsulate the process of pulling your data from storage and exposing it to your training loop in batches.\n",
    "\n",
    "The Dataset is responsible for accessing and processing single instances of data.\n",
    "\n",
    "The DataLoader pulls instances of data from the Dataset (either automatically or with a sampler that you define), collects them in batches, and returns them for consumption by your training loop. The DataLoader works with all kinds of datasets, regardless of the type of data they contain.\n",
    "\n",
    "For this tutorial, we’ll be using the Fashion-MNIST dataset provided by TorchVision. We use torchvision.transforms.Normalize() to zero-center and normalize the distribution of the image tile content, and download both training and validation data splits.\n",
    "\n"
   ]
  },
  {
   "cell_type": "code",
   "execution_count": 5,
   "id": "cadc102b",
   "metadata": {},
   "outputs": [
    {
     "name": "stdout",
     "output_type": "stream",
     "text": [
      "Downloading http://fashion-mnist.s3-website.eu-central-1.amazonaws.com/train-images-idx3-ubyte.gz\n",
      "Downloading http://fashion-mnist.s3-website.eu-central-1.amazonaws.com/train-images-idx3-ubyte.gz to ./data/FashionMNIST/raw/train-images-idx3-ubyte.gz\n"
     ]
    },
    {
     "data": {
      "application/vnd.jupyter.widget-view+json": {
       "model_id": "163e7e0361204f948792b68ad4355e0d",
       "version_major": 2,
       "version_minor": 0
      },
      "text/plain": [
       "  0%|          | 0/26421880 [00:00<?, ?it/s]"
      ]
     },
     "metadata": {},
     "output_type": "display_data"
    },
    {
     "name": "stdout",
     "output_type": "stream",
     "text": [
      "Extracting ./data/FashionMNIST/raw/train-images-idx3-ubyte.gz to ./data/FashionMNIST/raw\n",
      "\n",
      "Downloading http://fashion-mnist.s3-website.eu-central-1.amazonaws.com/train-labels-idx1-ubyte.gz\n",
      "Downloading http://fashion-mnist.s3-website.eu-central-1.amazonaws.com/train-labels-idx1-ubyte.gz to ./data/FashionMNIST/raw/train-labels-idx1-ubyte.gz\n"
     ]
    },
    {
     "data": {
      "application/vnd.jupyter.widget-view+json": {
       "model_id": "1b419b37cccc4ed79bdfcdfa10fd3d0e",
       "version_major": 2,
       "version_minor": 0
      },
      "text/plain": [
       "  0%|          | 0/29515 [00:00<?, ?it/s]"
      ]
     },
     "metadata": {},
     "output_type": "display_data"
    },
    {
     "name": "stdout",
     "output_type": "stream",
     "text": [
      "Extracting ./data/FashionMNIST/raw/train-labels-idx1-ubyte.gz to ./data/FashionMNIST/raw\n",
      "\n",
      "Downloading http://fashion-mnist.s3-website.eu-central-1.amazonaws.com/t10k-images-idx3-ubyte.gz\n",
      "Downloading http://fashion-mnist.s3-website.eu-central-1.amazonaws.com/t10k-images-idx3-ubyte.gz to ./data/FashionMNIST/raw/t10k-images-idx3-ubyte.gz\n"
     ]
    },
    {
     "data": {
      "application/vnd.jupyter.widget-view+json": {
       "model_id": "1ef0c10c03ae44c394b870f41f542b66",
       "version_major": 2,
       "version_minor": 0
      },
      "text/plain": [
       "  0%|          | 0/4422102 [00:00<?, ?it/s]"
      ]
     },
     "metadata": {},
     "output_type": "display_data"
    },
    {
     "name": "stdout",
     "output_type": "stream",
     "text": [
      "Extracting ./data/FashionMNIST/raw/t10k-images-idx3-ubyte.gz to ./data/FashionMNIST/raw\n",
      "\n",
      "Downloading http://fashion-mnist.s3-website.eu-central-1.amazonaws.com/t10k-labels-idx1-ubyte.gz\n",
      "Downloading http://fashion-mnist.s3-website.eu-central-1.amazonaws.com/t10k-labels-idx1-ubyte.gz to ./data/FashionMNIST/raw/t10k-labels-idx1-ubyte.gz\n"
     ]
    },
    {
     "data": {
      "application/vnd.jupyter.widget-view+json": {
       "model_id": "98e9dd8fad3f4ee1b181200298ddc40d",
       "version_major": 2,
       "version_minor": 0
      },
      "text/plain": [
       "  0%|          | 0/5148 [00:00<?, ?it/s]"
      ]
     },
     "metadata": {},
     "output_type": "display_data"
    },
    {
     "name": "stdout",
     "output_type": "stream",
     "text": [
      "Extracting ./data/FashionMNIST/raw/t10k-labels-idx1-ubyte.gz to ./data/FashionMNIST/raw\n",
      "\n",
      "Training set has 60000 instances\n",
      "Validation set has 10000 instances\n"
     ]
    },
    {
     "name": "stderr",
     "output_type": "stream",
     "text": [
      "/Library/Frameworks/Python.framework/Versions/3.9/lib/python3.9/site-packages/torchvision/datasets/mnist.py:498: UserWarning: The given NumPy array is not writeable, and PyTorch does not support non-writeable tensors. This means you can write to the underlying (supposedly non-writeable) NumPy array using the tensor. You may want to copy the array to protect its data or make it writeable before converting it to a tensor. This type of warning will be suppressed for the rest of this program. (Triggered internally at  ../torch/csrc/utils/tensor_numpy.cpp:180.)\n",
      "  return torch.from_numpy(parsed.astype(m[2], copy=False)).view(*s)\n"
     ]
    }
   ],
   "source": [
    "transform = transforms.Compose(\n",
    "    [transforms.ToTensor(),\n",
    "    transforms.Normalize((0.5,), (0.5,))])\n",
    "\n",
    "# Create datasets for training & validation, download if necessary\n",
    "training_set = torchvision.datasets.FashionMNIST('./data', train=True, transform=transform, download=True)\n",
    "validation_set = torchvision.datasets.FashionMNIST('./data', train=False, transform=transform, download=True)\n",
    "\n",
    "# Create data loaders for our datasets; shuffle for training, not for validation\n",
    "training_loader = torch.utils.data.DataLoader(training_set, batch_size=4, shuffle=True, num_workers=2)\n",
    "validation_loader = torch.utils.data.DataLoader(validation_set, batch_size=4, shuffle=False, num_workers=2)\n",
    "\n",
    "# Class labels\n",
    "classes = ('T-shirt/top', 'Trouser', 'Pullover', 'Dress', 'Coat',\n",
    "        'Sandal', 'Shirt', 'Sneaker', 'Bag', 'Ankle Boot')\n",
    "\n",
    "# Report split sizes\n",
    "print('Training set has {} instances'.format(len(training_set)))\n",
    "print('Validation set has {} instances'.format(len(validation_set)))"
   ]
  },
  {
   "cell_type": "markdown",
   "id": "c65f149e",
   "metadata": {},
   "source": [
    "As always, let’s visualize the data as a sanity check:"
   ]
  },
  {
   "cell_type": "code",
   "execution_count": 6,
   "id": "6944a9ff",
   "metadata": {},
   "outputs": [
    {
     "name": "stdout",
     "output_type": "stream",
     "text": [
      "Coat  Shirt  Coat  Coat\n"
     ]
    },
    {
     "data": {
      "image/png": "[encoded data removed]",
      "text/plain": [
       "<Figure size 432x288 with 1 Axes>"
      ]
     },
     "metadata": {
      "needs_background": "light"
     },
     "output_type": "display_data"
    }
   ],
   "source": [
    "import matplotlib.pyplot as plt\n",
    "import numpy as np\n",
    "\n",
    "# Helper function for inline image display\n",
    "def matplotlib_imshow(img, one_channel=False):\n",
    "    if one_channel:\n",
    "        img = img.mean(dim=0)\n",
    "    img = img / 2 + 0.5     # unnormalize\n",
    "    npimg = img.numpy()\n",
    "    if one_channel:\n",
    "        plt.imshow(npimg, cmap=\"Greys\")\n",
    "    else:\n",
    "        plt.imshow(np.transpose(npimg, (1, 2, 0)))\n",
    "\n",
    "dataiter = iter(training_loader)\n",
    "images, labels = dataiter.next()\n",
    "\n",
    "# Create a grid from the images and show them\n",
    "img_grid = torchvision.utils.make_grid(images)\n",
    "matplotlib_imshow(img_grid, one_channel=True)\n",
    "print('  '.join(classes[labels[j]] for j in range(4)))"
   ]
  },
  {
   "cell_type": "markdown",
   "id": "46e0c867",
   "metadata": {},
   "source": [
    "# The Model\n",
    "The model we’ll use in this example is a variant of LeNet-5 - it should be familiar if you’ve watched the previous videos in this series."
   ]
  },
  {
   "cell_type": "code",
   "execution_count": 9,
   "id": "ea44b481",
   "metadata": {},
   "outputs": [
    {
     "data": {
      "text/plain": [
       "GarmentClassifier(\n",
       "  (conv1): Conv2d(1, 6, kernel_size=(5, 5), stride=(1, 1))\n",
       "  (pool): MaxPool2d(kernel_size=2, stride=2, padding=0, dilation=1, ceil_mode=False)\n",
       "  (conv2): Conv2d(6, 16, kernel_size=(5, 5), stride=(1, 1))\n",
       "  (fc1): Linear(in_features=256, out_features=120, bias=True)\n",
       "  (fc2): Linear(in_features=120, out_features=84, bias=True)\n",
       "  (fc3): Linear(in_features=84, out_features=10, bias=True)\n",
       ")"
      ]
     },
     "execution_count": 9,
     "metadata": {},
     "output_type": "execute_result"
    }
   ],
   "source": [
    "import torch.nn as nn\n",
    "import torch.nn.functional as F\n",
    "\n",
    "# PyTorch models inherit from torch.nn.Module\n",
    "class GarmentClassifier(nn.Module):\n",
    "    def __init__(self):\n",
    "        super(GarmentClassifier, self).__init__()\n",
    "        self.conv1 = nn.Conv2d(1, 6, 5)\n",
    "        self.pool = nn.MaxPool2d(2, 2)\n",
    "        self.conv2 = nn.Conv2d(6, 16, 5)\n",
    "        self.fc1 = nn.Linear(16 * 4 * 4, 120)\n",
    "        self.fc2 = nn.Linear(120, 84)\n",
    "        self.fc3 = nn.Linear(84, 10)\n",
    "\n",
    "    def forward(self, x):\n",
    "        x = self.pool(F.relu(self.conv1(x)))\n",
    "        x = self.pool(F.relu(self.conv2(x)))\n",
    "        x = x.view(-1, 16 * 4 * 4)\n",
    "        x = F.relu(self.fc1(x))\n",
    "        x = F.relu(self.fc2(x))\n",
    "        x = self.fc3(x)\n",
    "        return x\n",
    "\n",
    "\n",
    "model = GarmentClassifier()\n",
    "model"
   ]
  },
  {
   "cell_type": "markdown",
   "id": "fe81edec",
   "metadata": {},
   "source": [
    "# Loss Function\n",
    "For this example, we’ll be using a cross-entropy loss. For demonstration purposes, we’ll create batches of dummy output and label values, run them through the loss function, and examine the result."
   ]
  },
  {
   "cell_type": "code",
   "execution_count": 8,
   "id": "7bbbe4ee",
   "metadata": {},
   "outputs": [
    {
     "name": "stdout",
     "output_type": "stream",
     "text": [
      "tensor([[0.8672, 0.9586, 0.4316, 0.0205, 0.4377, 0.1035, 0.6014, 0.1558, 0.9255,\n",
      "         0.1689],\n",
      "        [0.2691, 0.2199, 0.6342, 0.0433, 0.4571, 0.5996, 0.8654, 0.7449, 0.5578,\n",
      "         0.3751],\n",
      "        [0.5050, 0.2308, 0.0046, 0.1406, 0.7634, 0.1291, 0.5930, 0.9327, 0.6154,\n",
      "         0.1771],\n",
      "        [0.6858, 0.1328, 0.9012, 0.0871, 0.7380, 0.1647, 0.6059, 0.9957, 0.2882,\n",
      "         0.9230]])\n",
      "tensor([1, 5, 3, 7])\n",
      "Total loss for this batch: 2.1517252922058105\n"
     ]
    }
   ],
   "source": [
    "loss_fn = torch.nn.CrossEntropyLoss()\n",
    "\n",
    "# NB: Loss functions expect data in batches, so we're creating batches of 4\n",
    "# Represents the model's confidence in each of the 10 classes for a given input\n",
    "dummy_outputs = torch.rand(4, 10)\n",
    "# Represents the correct class among the 10 being tested\n",
    "dummy_labels = torch.tensor([1, 5, 3, 7])\n",
    "\n",
    "print(dummy_outputs)\n",
    "print(dummy_labels)\n",
    "\n",
    "loss = loss_fn(dummy_outputs, dummy_labels)\n",
    "print('Total loss for this batch: {}'.format(loss.item()))"
   ]
  },
  {
   "cell_type": "markdown",
   "id": "4f89792e",
   "metadata": {},
   "source": [
    "Optimizer\n",
    "For this example, we’ll be using simple stochastic gradient descent with momentum.\n",
    "\n",
    "It can be instructive to try some variations on this optimization scheme:\n",
    "\n",
    "* Learning rate determines the size of the steps the optimizer takes. What does a different learning rate do to the your training results, in terms of accuracy and convergence time?\n",
    "* Momentum nudges the optimizer in the direction of strongest gradient over multiple steps. What does changing this value do to your results?\n",
    "* Try some different optimization algorithms, such as averaged SGD, Adagrad, or Adam. How do your results differ?"
   ]
  },
  {
   "cell_type": "code",
   "execution_count": 10,
   "id": "69226460",
   "metadata": {},
   "outputs": [],
   "source": [
    "# Optimizers specified in the torch.optim package\n",
    "optimizer = torch.optim.SGD(model.parameters(), lr=0.001, momentum=0.9)"
   ]
  },
  {
   "cell_type": "markdown",
   "id": "b61e5fc7",
   "metadata": {},
   "source": [
    "# The Training Loop\n",
    "Below, we have a function that performs one training epoch. It enumerates data from the DataLoader, and on each pass of the loop does the following:\n",
    "\n",
    "* Gets a batch of training data from the DataLoader\n",
    "* Zeros the optimizer’s gradients\n",
    "* Performs an inference - that is, gets predictions from the model for an input batch\n",
    "* Calculates the loss for that set of predictions vs. the labels on the dataset\n",
    "* Calculates the backward gradients over the learning weights\n",
    "* Tells the optimizer to perform one learning step - that is, adjust the model’s learning weights based on the observed gradients for this batch, according to the optimization algorithm we chose\n",
    "* It reports on the loss for every 1000 batches.\n",
    "* Finally, it reports the average per-batch loss for the last 1000 batches, for comparison with a validation run"
   ]
  },
  {
   "cell_type": "code",
   "execution_count": 11,
   "id": "a858866d",
   "metadata": {},
   "outputs": [],
   "source": [
    "def train_one_epoch(epoch_index, tb_writer):\n",
    "    running_loss = 0.\n",
    "    last_loss = 0.\n",
    "\n",
    "    # Here, we use enumerate(training_loader) instead of\n",
    "    # iter(training_loader) so that we can track the batch\n",
    "    # index and do some intra-epoch reporting\n",
    "    for i, data in enumerate(training_loader):\n",
    "        # Every data instance is an input + label pair\n",
    "        inputs, labels = data\n",
    "\n",
    "        # Zero your gradients for every batch!\n",
    "        optimizer.zero_grad()\n",
    "\n",
    "        # Make predictions for this batch\n",
    "        outputs = model(inputs)\n",
    "\n",
    "        # Compute the loss and its gradients\n",
    "        loss = loss_fn(outputs, labels)\n",
    "        loss.backward()\n",
    "\n",
    "        # Adjust learning weights\n",
    "        optimizer.step()\n",
    "\n",
    "        # Gather data and report\n",
    "        running_loss += loss.item()\n",
    "        if i % 1000 == 999:\n",
    "            last_loss = running_loss / 1000 # loss per batch\n",
    "            print('  batch {} loss: {}'.format(i + 1, last_loss))\n",
    "            tb_x = epoch_index * len(training_loader) + i + 1\n",
    "            tb_writer.add_scalar('Loss/train', last_loss, tb_x)\n",
    "            running_loss = 0.\n",
    "\n",
    "    return last_loss"
   ]
  },
  {
   "cell_type": "markdown",
   "id": "3a7eecc6",
   "metadata": {},
   "source": [
    "# Per-Epoch Activity\n",
    "There are a couple of things we’ll want to do once per epoch:\n",
    "\n",
    "* Perform validation by checking our relative loss on a set of data that was not used for training, and report this\n",
    "* Save a copy of the model\n",
    "Here, we’ll do our reporting in TensorBoard. This will require going to the command line to start TensorBoard, and opening it in another browser tab."
   ]
  },
  {
   "cell_type": "code",
   "execution_count": 12,
   "id": "7bca231e",
   "metadata": {},
   "outputs": [
    {
     "name": "stdout",
     "output_type": "stream",
     "text": [
      "EPOCH 1:\n"
     ]
    },
    {
     "name": "stderr",
     "output_type": "stream",
     "text": [
      "/Library/Frameworks/Python.framework/Versions/3.9/lib/python3.9/site-packages/torch/nn/functional.py:718: UserWarning: Named tensors and all their associated APIs are an experimental feature and subject to change. Please do not use them for anything important until they are released as stable. (Triggered internally at  ../c10/core/TensorImpl.h:1156.)\n",
      "  return torch.max_pool2d(input, kernel_size, stride, padding, dilation, ceil_mode)\n"
     ]
    },
    {
     "name": "stdout",
     "output_type": "stream",
     "text": [
      "  batch 1000 loss: 1.7992585874944926\n",
      "  batch 2000 loss: 0.8485545415878296\n",
      "  batch 3000 loss: 0.7208732691360638\n",
      "  batch 4000 loss: 0.6436950080944225\n",
      "  batch 5000 loss: 0.605469992664177\n",
      "  batch 6000 loss: 0.5838761807768605\n",
      "  batch 7000 loss: 0.5432864178980235\n",
      "  batch 8000 loss: 0.5110421218557749\n",
      "  batch 9000 loss: 0.5109679168255243\n",
      "  batch 10000 loss: 0.4794137558119837\n",
      "  batch 11000 loss: 0.4488081749713747\n",
      "  batch 12000 loss: 0.46633079904923214\n",
      "  batch 13000 loss: 0.43178314077295366\n",
      "  batch 14000 loss: 0.4185997192665236\n",
      "  batch 15000 loss: 0.415590266504616\n",
      "LOSS train 0.415590266504616 valid 0.43991410732269287\n",
      "EPOCH 2:\n",
      "  batch 1000 loss: 0.37883867275499505\n",
      "  batch 2000 loss: 0.38752289841044696\n",
      "  batch 3000 loss: 0.39574425809900277\n",
      "  batch 4000 loss: 0.38238421273522544\n",
      "  batch 5000 loss: 0.40249258095474216\n",
      "  batch 6000 loss: 0.3828329219642328\n",
      "  batch 7000 loss: 0.34573245046829104\n",
      "  batch 8000 loss: 0.3965220495777321\n",
      "  batch 9000 loss: 0.3485956456578497\n",
      "  batch 10000 loss: 0.3536676549479453\n",
      "  batch 11000 loss: 0.3644156249089865\n",
      "  batch 12000 loss: 0.3431357092811086\n",
      "  batch 13000 loss: 0.31702828296383084\n",
      "  batch 14000 loss: 0.3559315924561524\n",
      "  batch 15000 loss: 0.3591852361342171\n",
      "LOSS train 0.3591852361342171 valid 0.3447610139846802\n",
      "EPOCH 3:\n",
      "  batch 1000 loss: 0.3375304037494061\n",
      "  batch 2000 loss: 0.33242350596329195\n",
      "  batch 3000 loss: 0.3134248859588406\n",
      "  batch 4000 loss: 0.32294364845177914\n",
      "  batch 5000 loss: 0.3151183930543775\n",
      "  batch 6000 loss: 0.32613931042421607\n",
      "  batch 7000 loss: 0.32018586658487036\n",
      "  batch 8000 loss: 0.33012749151012394\n",
      "  batch 9000 loss: 0.3206818050657312\n",
      "  batch 10000 loss: 0.3404069008502229\n",
      "  batch 11000 loss: 0.2964446504414227\n",
      "  batch 12000 loss: 0.31130669264591415\n",
      "  batch 13000 loss: 0.3088268273298636\n",
      "  batch 14000 loss: 0.32154727216581525\n",
      "  batch 15000 loss: 0.30453132650823683\n",
      "LOSS train 0.30453132650823683 valid 0.3432207405567169\n",
      "EPOCH 4:\n",
      "  batch 1000 loss: 0.2934459938536984\n",
      "  batch 2000 loss: 0.3061452429076162\n",
      "  batch 3000 loss: 0.30628889723755126\n",
      "  batch 4000 loss: 0.2955814404160192\n",
      "  batch 5000 loss: 0.2859730718940918\n",
      "  batch 6000 loss: 0.2974367855857226\n",
      "  batch 7000 loss: 0.30087440953900657\n",
      "  batch 8000 loss: 0.3013816517161322\n",
      "  batch 9000 loss: 0.2979553958544384\n",
      "  batch 10000 loss: 0.2771259300442907\n",
      "  batch 11000 loss: 0.3040559061225358\n",
      "  batch 12000 loss: 0.2898343841000315\n",
      "  batch 13000 loss: 0.2969502283063557\n",
      "  batch 14000 loss: 0.29591938881799434\n",
      "  batch 15000 loss: 0.27402534787714106\n",
      "LOSS train 0.27402534787714106 valid 0.3303207457065582\n",
      "EPOCH 5:\n",
      "  batch 1000 loss: 0.28712790644180497\n",
      "  batch 2000 loss: 0.2610018224210071\n",
      "  batch 3000 loss: 0.2703098140746188\n",
      "  batch 4000 loss: 0.28149991515743206\n",
      "  batch 5000 loss: 0.27756854485287114\n",
      "  batch 6000 loss: 0.2939288954057338\n",
      "  batch 7000 loss: 0.2722254784573233\n",
      "  batch 8000 loss: 0.27076520185303526\n",
      "  batch 9000 loss: 0.2700775227055874\n",
      "  batch 10000 loss: 0.2739385394055425\n",
      "  batch 11000 loss: 0.2767897502360374\n",
      "  batch 12000 loss: 0.2774458447933248\n",
      "  batch 13000 loss: 0.2684380108866744\n",
      "  batch 14000 loss: 0.27983549812782077\n",
      "  batch 15000 loss: 0.2773767813171289\n",
      "LOSS train 0.2773767813171289 valid 0.302577942609787\n"
     ]
    }
   ],
   "source": [
    "# Initializing in a separate cell so we can easily add more epochs to the same run\n",
    "timestamp = datetime.now().strftime('%Y%m%d_%H%M%S')\n",
    "writer = SummaryWriter('runs/fashion_trainer_{}'.format(timestamp))\n",
    "epoch_number = 0\n",
    "\n",
    "EPOCHS = 5\n",
    "\n",
    "best_vloss = 1_000_000.\n",
    "\n",
    "for epoch in range(EPOCHS):\n",
    "    print('EPOCH {}:'.format(epoch_number + 1))\n",
    "\n",
    "    # Make sure gradient tracking is on, and do a pass over the data\n",
    "    model.train(True)\n",
    "    avg_loss = train_one_epoch(epoch_number, writer)\n",
    "\n",
    "    # We don't need gradients on to do reporting\n",
    "    model.train(False)\n",
    "\n",
    "    running_vloss = 0.0\n",
    "    for i, vdata in enumerate(validation_loader):\n",
    "        vinputs, vlabels = vdata\n",
    "        voutputs = model(vinputs)\n",
    "        vloss = loss_fn(voutputs, vlabels)\n",
    "        running_vloss += vloss\n",
    "\n",
    "    avg_vloss = running_vloss / (i + 1)\n",
    "    print('LOSS train {} valid {}'.format(avg_loss, avg_vloss))\n",
    "\n",
    "    # Log the running loss averaged per batch\n",
    "    # for both training and validation\n",
    "    writer.add_scalars('Training vs. Validation Loss',\n",
    "                    { 'Training' : avg_loss, 'Validation' : avg_vloss },\n",
    "                    epoch_number + 1)\n",
    "    writer.flush()\n",
    "\n",
    "    # Track best performance, and save the model's state\n",
    "    if avg_vloss < best_vloss:\n",
    "        best_vloss = avg_vloss\n",
    "        model_path = 'model_{}_{}'.format(timestamp, epoch_number)\n",
    "        torch.save(model.state_dict(), model_path)\n",
    "\n",
    "    epoch_number += 1"
   ]
  },
  {
   "cell_type": "markdown",
   "id": "2d244527",
   "metadata": {},
   "source": [
    "To load a saved version of the model:"
   ]
  },
  {
   "cell_type": "code",
   "execution_count": 15,
   "id": "cec1f900",
   "metadata": {},
   "outputs": [
    {
     "ename": "NameError",
     "evalue": "name 'PATH' is not defined",
     "output_type": "error",
     "traceback": [
      "\u001b[0;31m---------------------------------------------------------------------------\u001b[0m",
      "\u001b[0;31mNameError\u001b[0m                                 Traceback (most recent call last)",
      "\u001b[0;32m/var/folders/bw/0ysxvxj95kvg94vzv34y4s240000gn/T/ipykernel_9783/1099883373.py\u001b[0m in \u001b[0;36m<module>\u001b[0;34m\u001b[0m\n\u001b[1;32m      1\u001b[0m \u001b[0msaved_model\u001b[0m \u001b[0;34m=\u001b[0m \u001b[0mGarmentClassifier\u001b[0m\u001b[0;34m(\u001b[0m\u001b[0;34m)\u001b[0m\u001b[0;34m\u001b[0m\u001b[0;34m\u001b[0m\u001b[0m\n\u001b[0;32m----> 2\u001b[0;31m \u001b[0msaved_model\u001b[0m\u001b[0;34m.\u001b[0m\u001b[0mload_state_dict\u001b[0m\u001b[0;34m(\u001b[0m\u001b[0mtorch\u001b[0m\u001b[0;34m.\u001b[0m\u001b[0mload\u001b[0m\u001b[0;34m(\u001b[0m\u001b[0mPATH\u001b[0m\u001b[0;34m)\u001b[0m\u001b[0;34m)\u001b[0m\u001b[0;34m\u001b[0m\u001b[0;34m\u001b[0m\u001b[0m\n\u001b[0m",
      "\u001b[0;31mNameError\u001b[0m: name 'PATH' is not defined"
     ]
    }
   ],
   "source": [
    "saved_model = GarmentClassifier()\n",
    "saved_model.load_state_dict(torch.load(PATH))"
   ]
  },
  {
   "cell_type": "markdown",
   "id": "13689e35",
   "metadata": {},
   "source": [
    "Once you’ve loaded the model, it’s ready for whatever you need it for - more training, inference, or analysis.\n",
    "\n",
    "Note that if your model has constructor parameters that affect model structure, you’ll need to provide them and configure the model identically to the state in which it was saved."
   ]
  }
 ],
 "metadata": {
  "kernelspec": {
   "display_name": "Python 3 (ipykernel)",
   "language": "python",
   "name": "python3"
  },
  "language_info": {
   "codemirror_mode": {
    "name": "ipython",
    "version": 3
   },
   "file_extension": ".py",
   "mimetype": "text/x-python",
   "name": "python",
   "nbconvert_exporter": "python",
   "pygments_lexer": "ipython3",
   "version": "3.9.6"
  }
 },
 "nbformat": 4,
 "nbformat_minor": 5
}
