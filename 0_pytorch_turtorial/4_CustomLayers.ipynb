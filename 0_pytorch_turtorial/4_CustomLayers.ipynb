{
 "cells": [
  {
   "cell_type": "code",
   "execution_count": 10,
   "id": "ba718e36",
   "metadata": {},
   "outputs": [],
   "source": [
    "import torch\n",
    "from torch import nn\n",
    "from torch.nn import functional as F"
   ]
  },
  {
   "cell_type": "markdown",
   "id": "28249ffa",
   "metadata": {},
   "source": [
    "One important behavior of torch.nn.Module is registering parameters. If a particular Module subclass has learning weights, these weights are expressed as instances of torch.nn.Parameter. The Parameter class is a subclass of torch.Tensor, with the special behavior that when they are assigned as attributes of a Module, they are added to the list of that modules parameters. These parameters may be accessed through the parameters() method on the Module class.\n",
    "\n",
    "As a simple example, here’s a very simple model with two linear layers and an activation function. We’ll create an instance of it and ask it to report on its parameters:"
   ]
  },
  {
   "cell_type": "code",
   "execution_count": 11,
   "id": "e856d98a",
   "metadata": {},
   "outputs": [
    {
     "name": "stdout",
     "output_type": "stream",
     "text": [
      "The model:\n",
      "TinyModel(\n",
      "  (linear1): Linear(in_features=100, out_features=200, bias=True)\n",
      "  (activation): ReLU()\n",
      "  (linear2): Linear(in_features=200, out_features=10, bias=True)\n",
      "  (softmax): Softmax(dim=None)\n",
      ")\n",
      "\n",
      "\n",
      "Just one layer:\n",
      "Linear(in_features=200, out_features=10, bias=True)\n",
      "\n",
      "\n",
      "Model params:\n",
      "Parameter containing:\n",
      "tensor([[ 0.0908,  0.0693, -0.0344,  ...,  0.0625,  0.0594, -0.0252],\n",
      "        [ 0.0811,  0.0595,  0.0888,  ...,  0.0426,  0.0797,  0.0148],\n",
      "        [-0.0899, -0.0253,  0.0791,  ..., -0.0667,  0.0191,  0.0032],\n",
      "        ...,\n",
      "        [-0.0353,  0.0744, -0.0775,  ...,  0.0426,  0.0795, -0.0802],\n",
      "        [ 0.0343,  0.0637,  0.0282,  ...,  0.0326,  0.0032, -0.0142],\n",
      "        [-0.0506, -0.0243, -0.0465,  ..., -0.0513, -0.0182, -0.0510]],\n",
      "       requires_grad=True)\n",
      "Parameter containing:\n",
      "tensor([-5.1068e-02,  5.5659e-02,  4.7385e-02,  1.7280e-02,  5.2120e-02,\n",
      "        -9.5312e-02,  9.8569e-02,  1.9313e-02, -2.0766e-02,  4.8732e-02,\n",
      "         9.3431e-03,  8.2377e-02,  9.3618e-02,  8.0242e-02, -8.1718e-02,\n",
      "        -3.9809e-02,  7.1170e-02,  2.9505e-02, -5.4701e-02,  2.7304e-03,\n",
      "        -4.3797e-02, -2.2869e-02,  8.3917e-02, -8.0439e-02,  4.2473e-03,\n",
      "         1.4728e-02, -9.2682e-02, -3.4000e-02, -9.2701e-02,  8.2496e-02,\n",
      "         2.0391e-02,  7.5566e-02, -7.1440e-02, -9.7691e-02,  5.1111e-02,\n",
      "        -9.6059e-02,  2.9730e-02,  3.2401e-02, -5.4114e-02, -1.8898e-02,\n",
      "        -4.4798e-02,  7.0981e-02, -1.8873e-02, -2.2110e-02,  8.4551e-03,\n",
      "        -1.8656e-03,  7.6800e-02,  7.4824e-02, -1.5901e-02,  1.8425e-02,\n",
      "         8.9611e-02,  3.4696e-03,  8.2364e-03,  1.3313e-02, -9.1671e-02,\n",
      "         5.9163e-02,  7.8932e-02, -9.1471e-02,  1.2838e-02, -5.6048e-02,\n",
      "         7.5401e-02, -9.2441e-02, -3.1066e-02, -1.0201e-02,  2.4185e-02,\n",
      "         9.8874e-04,  3.9217e-02,  4.2679e-02,  6.1650e-02,  4.7743e-05,\n",
      "        -6.0346e-03,  9.9596e-02, -4.9014e-02,  7.0796e-02,  3.3321e-02,\n",
      "         2.2148e-02,  5.2678e-02,  3.2405e-02, -8.7406e-02,  9.7448e-02,\n",
      "         4.3172e-02, -1.4490e-03,  3.4964e-02, -1.2388e-02,  5.8706e-02,\n",
      "         4.3540e-02,  5.3142e-02, -1.9336e-02,  4.2118e-02, -8.7064e-02,\n",
      "        -2.1498e-02,  1.5797e-02,  8.2165e-02,  8.4383e-02, -4.8847e-02,\n",
      "        -2.4147e-02, -8.5572e-02,  3.0285e-02,  2.0455e-03,  8.3907e-02,\n",
      "         5.4557e-02,  4.9100e-02,  5.4474e-02,  8.2690e-02,  2.0295e-02,\n",
      "         7.5614e-02,  2.7485e-03,  5.5648e-02, -6.9110e-02,  3.8898e-02,\n",
      "         4.9522e-02,  8.9119e-02, -6.7192e-02, -5.1950e-02,  8.2085e-02,\n",
      "        -5.1788e-02, -1.6069e-02,  9.1086e-02, -6.3096e-02,  2.1352e-02,\n",
      "         9.1826e-02,  1.5441e-02, -3.4465e-02,  5.4050e-02,  4.6577e-02,\n",
      "         6.3034e-02,  3.4091e-02, -2.2835e-03, -1.4444e-02,  6.1537e-02,\n",
      "         7.1729e-02,  6.0137e-02,  5.9881e-03, -4.2199e-02, -6.3863e-02,\n",
      "         1.8842e-02, -8.5409e-02, -8.8439e-02,  5.1171e-02,  8.7347e-02,\n",
      "         9.9716e-02, -2.8203e-02,  5.7964e-02, -2.0659e-02,  8.9281e-02,\n",
      "        -2.1329e-02,  1.1323e-02,  1.9205e-02,  8.5129e-02,  1.8470e-02,\n",
      "         2.1758e-02,  5.3260e-03, -5.0367e-02,  1.7567e-02,  2.9715e-03,\n",
      "        -1.7063e-02, -6.6437e-03,  4.6646e-02, -5.2569e-02,  9.8224e-02,\n",
      "        -7.1230e-03,  7.3130e-02,  5.9218e-02, -5.2420e-02, -7.3704e-02,\n",
      "         5.9012e-02,  4.7744e-02,  9.4071e-02,  4.5180e-02, -3.8419e-02,\n",
      "        -5.8971e-02,  8.4188e-02, -7.1367e-02,  2.2325e-02, -6.9273e-02,\n",
      "        -1.4554e-02,  9.3176e-02, -3.4040e-02,  8.8263e-02,  2.7954e-02,\n",
      "        -1.6816e-02,  9.6852e-02,  4.7712e-03,  5.1214e-02,  7.7987e-02,\n",
      "        -1.7432e-02, -8.2149e-02,  8.2681e-02, -7.5430e-02,  6.3535e-02,\n",
      "         1.0323e-02,  9.4569e-02, -7.3180e-03,  4.2132e-02,  8.7481e-02,\n",
      "        -1.0409e-02, -5.3682e-02, -3.3575e-02, -5.1605e-02,  9.0632e-02],\n",
      "       requires_grad=True)\n",
      "Parameter containing:\n",
      "tensor([[-0.0049, -0.0106,  0.0460,  ..., -0.0039, -0.0233, -0.0594],\n",
      "        [-0.0587,  0.0276,  0.0494,  ...,  0.0240,  0.0480, -0.0630],\n",
      "        [-0.0485, -0.0259,  0.0048,  ..., -0.0327,  0.0550, -0.0696],\n",
      "        ...,\n",
      "        [ 0.0164,  0.0448, -0.0086,  ..., -0.0266,  0.0438,  0.0138],\n",
      "        [ 0.0098, -0.0683, -0.0176,  ..., -0.0185, -0.0387, -0.0177],\n",
      "        [-0.0547,  0.0173,  0.0611,  ...,  0.0498,  0.0311,  0.0368]],\n",
      "       requires_grad=True)\n",
      "Parameter containing:\n",
      "tensor([-0.0703, -0.0379,  0.0562,  0.0047, -0.0501, -0.0016,  0.0239,  0.0174,\n",
      "        -0.0354, -0.0391], requires_grad=True)\n",
      "\n",
      "\n",
      "Layer params:\n",
      "Parameter containing:\n",
      "tensor([[-0.0049, -0.0106,  0.0460,  ..., -0.0039, -0.0233, -0.0594],\n",
      "        [-0.0587,  0.0276,  0.0494,  ...,  0.0240,  0.0480, -0.0630],\n",
      "        [-0.0485, -0.0259,  0.0048,  ..., -0.0327,  0.0550, -0.0696],\n",
      "        ...,\n",
      "        [ 0.0164,  0.0448, -0.0086,  ..., -0.0266,  0.0438,  0.0138],\n",
      "        [ 0.0098, -0.0683, -0.0176,  ..., -0.0185, -0.0387, -0.0177],\n",
      "        [-0.0547,  0.0173,  0.0611,  ...,  0.0498,  0.0311,  0.0368]],\n",
      "       requires_grad=True)\n",
      "Parameter containing:\n",
      "tensor([-0.0703, -0.0379,  0.0562,  0.0047, -0.0501, -0.0016,  0.0239,  0.0174,\n",
      "        -0.0354, -0.0391], requires_grad=True)\n"
     ]
    }
   ],
   "source": [
    "import torch\n",
    "\n",
    "class TinyModel(torch.nn.Module):\n",
    "\n",
    "    def __init__(self):\n",
    "        super(TinyModel, self).__init__()\n",
    "\n",
    "        self.linear1 = torch.nn.Linear(100, 200)\n",
    "        self.activation = torch.nn.ReLU()\n",
    "        self.linear2 = torch.nn.Linear(200, 10)\n",
    "        self.softmax = torch.nn.Softmax()\n",
    "\n",
    "    def forward(self, x):\n",
    "        x = self.linear1(x)\n",
    "        x = self.activation(x)\n",
    "        x = self.linear2(x)\n",
    "        x = self.softmax(x)\n",
    "        return x\n",
    "\n",
    "tinymodel = TinyModel()\n",
    "\n",
    "print('The model:')\n",
    "print(tinymodel)\n",
    "\n",
    "print('\\n\\nJust one layer:')\n",
    "print(tinymodel.linear2)\n",
    "\n",
    "print('\\n\\nModel params:')\n",
    "for param in tinymodel.parameters():\n",
    "    print(param)\n",
    "\n",
    "print('\\n\\nLayer params:')\n",
    "for param in tinymodel.linear2.parameters():\n",
    "    print(param)"
   ]
  },
  {
   "cell_type": "markdown",
   "id": "81e62a3f",
   "metadata": {},
   "source": [
    "This shows the fundamental structure of a PyTorch model: there is an __init__() method that defines the layers and other components of a model, and a forward() method where the computation gets done. Note that we can print the model, or any of its submodules, to learn about its structure.\n",
    "\n",
    "# Common Layer Types\n",
    "## Linear Layers\n",
    "\n",
    "The most basic type of neural network layer is a linear or fully connected layer. This is a layer where every input influences every output of the layer to a degree specified by the layer’s weights. If a model has m inputs and n outputs, the weights will be an m * x * n matrix. For example:"
   ]
  },
  {
   "cell_type": "code",
   "execution_count": 12,
   "id": "c1c4440d",
   "metadata": {},
   "outputs": [
    {
     "name": "stdout",
     "output_type": "stream",
     "text": [
      "Input:\n",
      "tensor([[0.8553, 0.9695, 0.8625]])\n",
      "\n",
      "\n",
      "Weight and Bias parameters:\n",
      "Parameter containing:\n",
      "tensor([[-0.1888,  0.4755,  0.2939],\n",
      "        [-0.1365, -0.3554,  0.0949]], requires_grad=True)\n",
      "Parameter containing:\n",
      "tensor([-0.4833,  0.2478], requires_grad=True)\n",
      "\n",
      "\n",
      "Output:\n",
      "tensor([[ 0.0697, -0.1316]], grad_fn=<AddmmBackward>)\n"
     ]
    }
   ],
   "source": [
    "lin = torch.nn.Linear(3, 2)\n",
    "x = torch.rand(1, 3)\n",
    "print('Input:')\n",
    "print(x)\n",
    "\n",
    "print('\\n\\nWeight and Bias parameters:')\n",
    "for param in lin.parameters():\n",
    "    print(param)\n",
    "\n",
    "y = lin(x)\n",
    "print('\\n\\nOutput:')\n",
    "print(y)"
   ]
  },
  {
   "cell_type": "markdown",
   "id": "80a99eca",
   "metadata": {},
   "source": [
    "if you do the matrix multiplication of x by the linear layer’s weights, and add the biases, you’ll find that you get the output vector y.\n",
    "\n",
    "One other important feature to note: When we checked the weights of our layer with lin.weight, it reported itself as a Parameter (which is a subclass of Tensor), and let us know that it’s tracking gradients with autograd. This is a default behavior for Parameter that differs from Tensor.\n",
    "\n",
    "Linear layers are used widely in deep learning models. One of the most common places you’ll see them is in classifier models, which will usually have one or more linear layers at the end, where the last layer will have n outputs, where n is the number of classes the classifier addresses.\n",
    "\n",
    "## Convolutional Layers\n",
    "Convolutional layers are built to handle data with a high degree of spatial correlation. They are very commonly used in computer vision, where they detect close groupings of features which the compose into higher-level features. They pop up in other contexts too - for example, in NLP applications, where the a word’s immediate context (that is, the other words nearby in the sequence) can affect the meaning of a sentence."
   ]
  },
  {
   "cell_type": "code",
   "execution_count": 14,
   "id": "417fd745",
   "metadata": {},
   "outputs": [],
   "source": [
    "import torch.functional as F\n",
    "\n",
    "\n",
    "class LeNet(torch.nn.Module):\n",
    "\n",
    "    def __init__(self):\n",
    "        super(LeNet, self).__init__()\n",
    "        # 1 input image channel (black & white), 6 output channels, 5x5 square convolution\n",
    "        # kernel\n",
    "        self.conv1 = torch.nn.Conv2d(1, 6, 5)\n",
    "        self.conv2 = torch.nn.Conv2d(6, 16, 3)\n",
    "        # an affine operation: y = Wx + b\n",
    "        self.fc1 = torch.nn.Linear(16 * 6 * 6, 120)  # 6*6 from image dimension\n",
    "        self.fc2 = torch.nn.Linear(120, 84)\n",
    "        self.fc3 = torch.nn.Linear(84, 10)\n",
    "\n",
    "    def forward(self, x):\n",
    "        # Max pooling over a (2, 2) window\n",
    "        x = F.max_pool2d(F.relu(self.conv1(x)), (2, 2))\n",
    "        # If the size is a square you can only specify a single number\n",
    "        x = F.max_pool2d(F.relu(self.conv2(x)), 2)\n",
    "        x = x.view(-1, self.num_flat_features(x))\n",
    "        x = F.relu(self.fc1(x))\n",
    "        x = F.relu(self.fc2(x))\n",
    "        x = self.fc3(x)\n",
    "        return x\n",
    "\n",
    "    def num_flat_features(self, x):\n",
    "        size = x.size()[1:]  # all dimensions except the batch dimension\n",
    "        num_features = 1\n",
    "        for s in size:\n",
    "            num_features *= s\n",
    "        return num_features"
   ]
  },
  {
   "cell_type": "markdown",
   "id": "7429e53b",
   "metadata": {},
   "source": [
    "Let’s break down what’s happening in the convolutional layers of this model. Starting with conv1:\n",
    "\n",
    "* LeNet5 is meant to take in a 1x32x32 black & white image. The first argument to a convolutional layer’s constructor is the number of input channels. Here, it is 1. If we were building this model to look at 3-color channels, it would be 3.\n",
    "* A convolutional layer is like a window that scans over the image, looking for a pattern it recognizes. These patterns are called features, and one of the parameters of a convolutional layer is the number of features we would like it to learn. This is the second argument to the constructor is the number of output features. Here, we’re asking our layer to learn 6 features.\n",
    "* Just above, I likened the convolutional layer to a window - but how big is the window? The third argument is the window or kernel size. Here, the “5” means we’ve chosen a 5x5 kernel. (If you want a kernel with height different from width, you can specify a tuple for this argument - e.g., (3, 5) to get a 3x5 convolution kernel.)\n",
    "\n",
    "The output of a convolutional layer is an activation map - a spatial representation of the presence of features in the input tensor. conv1 will give us an output tensor of 6x28x28; 6 is the number of features, and 28 is the height and width of our map. (The 28 comes from the fact that when scanning a 5-pixel window over a 32-pixel row, there are only 28 valid positions.)\n",
    "\n",
    "We then pass the output of the convolution through a ReLU activation function (more on activation functions later), then through a max pooling layer. The max pooling layer takes features near each other in the activation map and groups them together. It does this by reducing the tensor, merging every 2x2 group of cells in the output into a single cell, and assigning that cell the maximum value of the 4 cells that went into it. This gives us a lower-resolution version of the activation map, with dimensions 6x14x14.\n",
    "\n",
    "Our next convolutional layer, conv2, expects 6 input channels (corresponding to the 6 features sought by the first layer), has 16 output channels, and a 3x3 kernel. It puts out a 16x12x12 activation map, which is again reduced by a max pooling layer to 16x6x6. Prior to passing this output to the linear layers, it is reshaped to a 16 * 6 * 6 = 576-element vector for consumption by the next layer.\n",
    "\n",
    "There are convolutional layers for addressing 1D, 2D, and 3D tensors. There are also many more optional arguments for a conv layer constructor, including stride length(e.g., only scanning every second or every third position) in the input, padding (so you can scan out to the edges of the input), and more. See the documentation for more information.\n",
    "\n",
    "## Recurrent Layers\n",
    "Recurrent neural networks (or RNNs) are used for sequential data - anything from time-series measurements from a scientific instrument to natural language sentences to DNA nucleotides. An RNN does this by maintaining a hidden state that acts as a sort of memory for what it has seen in the sequence so far.\n",
    "\n",
    "The internal structure of an RNN layer - or its variants, the LSTM (long short-term memory) and GRU (gated recurrent unit) - is moderately complex and beyond the scope of this video, but we’ll show you what one looks like in action with an LSTM-based part-of-speech tagger (a type of classifier that tells you if a word is a noun, verb, etc.):"
   ]
  },
  {
   "cell_type": "code",
   "execution_count": 16,
   "id": "46e67409",
   "metadata": {},
   "outputs": [],
   "source": [
    "class LSTMTagger(torch.nn.Module):\n",
    "\n",
    "    def __init__(self, embedding_dim, hidden_dim, vocab_size, tagset_size):\n",
    "        super(LSTMTagger, self).__init__()\n",
    "        self.hidden_dim = hidden_dim\n",
    "\n",
    "        self.word_embeddings = torch.nn.Embedding(vocab_size, embedding_dim)\n",
    "\n",
    "        # The LSTM takes word embeddings as inputs, and outputs hidden states\n",
    "        # with dimensionality hidden_dim.\n",
    "        self.lstm = torch.nn.LSTM(embedding_dim, hidden_dim)\n",
    "\n",
    "        # The linear layer that maps from hidden state space to tag space\n",
    "        self.hidden2tag = torch.nn.Linear(hidden_dim, tagset_size)\n",
    "\n",
    "    def forward(self, sentence):\n",
    "        embeds = self.word_embeddings(sentence)\n",
    "        lstm_out, _ = self.lstm(embeds.view(len(sentence), 1, -1))\n",
    "        tag_space = self.hidden2tag(lstm_out.view(len(sentence), -1))\n",
    "        tag_scores = F.log_softmax(tag_space, dim=1)\n",
    "        return tag_scores"
   ]
  },
  {
   "cell_type": "markdown",
   "id": "31685903",
   "metadata": {},
   "source": [
    "The constructor has four arguments:\n",
    "\n",
    "* vocab_size is the number of words in the input vocabulary. Each word is a one-hot vector (or unit vector) in a vocab_size-dimensional space.\n",
    "* tagset_size is the number of tags in the output set.\n",
    "* embedding_dim is the size of the embedding space for the vocabulary. An embedding maps a vocabulary onto a low-dimensional space, where words with similar meanings are close together in the space.\n",
    "* hidden_dim is the size of the LSTM’s memory.\n",
    "\n",
    "The input will be a sentence with the words represented as indices of one-hot vectors. The embedding layer will then map these down to an embedding_dim-dimensional space. The LSTM takes this sequence of embeddings and iterates over it, fielding an output vector of length hidden_dim. The final linear layer acts as a classifier; applying log_softmax() to the output of the final layer converts the output into a normalized set of estimated probabilities that a given word maps to a given tag.\n",
    "\n",
    "If you’d like to see this network in action, check out the Sequence Models and LSTM Networks tutorial on pytorch.org.\n",
    "\n",
    "## Transformers\n",
    "Transformers are multi-purpose networks that have taken over the state of the art in NLP with models like BERT. A discussion of transformer architecture is beyond the scope of this video, but PyTorch has a Transformer class that allows you to define the overall parameters of a transformer model - the number of attention heads, the number of encoder & decoder layers, dropout and activation functions, etc. (You can even build the BERT model from this single class, with the right parameters!) The torch.nn.Transformer class also has classes to encapsulate the individual components (TransformerEncoder, TransformerDecoder) and subcomponents (TransformerEncoderLayer, TransformerDecoderLayer). For details, check out the documentation on transformer classes, and the relevant tutorial on pytorch.org.\n",
    "\n",
    "# Other Layers and Functions\n",
    "## Data Manipulation Layers\n",
    "There are other layer types that perform important functions in models, but don’t participate in the learning process themselves.\n",
    "\n",
    "Max pooling (and its twin, min pooling) reduce a tensor by combining cells, and assigning the maximum value of the input cells to the output cell (we saw this). For example:"
   ]
  },
  {
   "cell_type": "code",
   "execution_count": 5,
   "id": "3bc9c22f",
   "metadata": {},
   "outputs": [
    {
     "name": "stdout",
     "output_type": "stream",
     "text": [
      "tensor([[[0.7727, 0.7001, 0.9239, 0.5545, 0.6650, 0.8851],\n",
      "         [0.3617, 0.6245, 0.6815, 0.3176, 0.8675, 0.7929],\n",
      "         [0.4634, 0.8764, 0.2078, 0.1479, 0.8689, 0.7093],\n",
      "         [0.9049, 0.5175, 0.7348, 0.6078, 0.2825, 0.8605],\n",
      "         [0.2027, 0.8422, 0.9996, 0.4286, 0.5358, 0.6210],\n",
      "         [0.3077, 0.6102, 0.3295, 0.2260, 0.5660, 0.5401]]])\n",
      "tensor([[[0.9239, 0.8851],\n",
      "         [0.9996, 0.8605]]])\n"
     ]
    },
    {
     "name": "stderr",
     "output_type": "stream",
     "text": [
      "/Library/Frameworks/Python.framework/Versions/3.9/lib/python3.9/site-packages/torch/nn/functional.py:718: UserWarning: Named tensors and all their associated APIs are an experimental feature and subject to change. Please do not use them for anything important until they are released as stable. (Triggered internally at  ../c10/core/TensorImpl.h:1156.)\n",
      "  return torch.max_pool2d(input, kernel_size, stride, padding, dilation, ceil_mode)\n"
     ]
    }
   ],
   "source": [
    "my_tensor = torch.rand(1, 6, 6)\n",
    "print(my_tensor)\n",
    "\n",
    "maxpool_layer = torch.nn.MaxPool2d(3)\n",
    "print(maxpool_layer(my_tensor))"
   ]
  },
  {
   "cell_type": "markdown",
   "id": "42a107bd",
   "metadata": {},
   "source": [
    "If you look closely at the values above, you’ll see that each of the values in the maxpooled output is the maximum value of each quadrant of the 6x6 input.\n",
    "\n",
    "Normalization layers re-center and normalize the output of one layer before feeding it to another. Centering the and scaling the intermediate tensors has a number of beneficial effects, such as letting you use higher learning rates without exploding/vanishing gradients."
   ]
  },
  {
   "cell_type": "code",
   "execution_count": 6,
   "id": "65640b91",
   "metadata": {},
   "outputs": [
    {
     "name": "stdout",
     "output_type": "stream",
     "text": [
      "tensor([[[15.1262, 22.5975,  6.6137, 12.8753],\n",
      "         [21.0610, 17.3555, 20.2101,  5.8365],\n",
      "         [14.5154, 15.9222, 19.6417, 19.6046],\n",
      "         [14.5611, 12.2164, 14.5513, 11.8966]]])\n",
      "tensor(15.2866)\n",
      "tensor([[[ 0.1440,  1.4514, -1.3455, -0.2499],\n",
      "         [ 0.8118,  0.2035,  0.6721, -1.6875],\n",
      "         [-1.2870, -0.6639,  0.9836,  0.9672],\n",
      "         [ 0.9998, -0.8685,  0.9920, -1.1234]]],\n",
      "       grad_fn=<NativeBatchNormBackward>)\n",
      "tensor(-2.9802e-08, grad_fn=<MeanBackward0>)\n"
     ]
    }
   ],
   "source": [
    "my_tensor = torch.rand(1, 4, 4) * 20 + 5\n",
    "print(my_tensor)\n",
    "\n",
    "print(my_tensor.mean())\n",
    "\n",
    "norm_layer = torch.nn.BatchNorm1d(4)\n",
    "normed_tensor = norm_layer(my_tensor)\n",
    "print(normed_tensor)\n",
    "\n",
    "print(normed_tensor.mean())"
   ]
  },
  {
   "cell_type": "markdown",
   "id": "bf38b763",
   "metadata": {},
   "source": [
    "Running the cell above, we’ve added a large scaling factor and offset to an input tensor; you should see the input tensor’s mean() somewhere in the neighborhood of 15. After running it through the normalization layer, you can see that the values are smaller, and grouped around zero - in fact, the mean should be very small (> 1e-8).\n",
    "\n",
    "This is beneficial because many activation functions (discussed below) have their strongest gradients near 0, but sometimes suffer from vanishing or exploding gradients for inputs that drive them far away from zero. Keeping the data centered around the area of steepest gradient will tend to mean faster, better learning and higher feasible learning rates.\n",
    "\n",
    "Dropout layers are a tool for encouraging sparse representations in your model - that is, pushing it to do inference with less data.\n",
    "\n",
    "Dropout layers work by randomly setting parts of the input tensor during training - dropout layers are always turned off for inference. This forces the model to learn against this masked or reduced dataset. For example:"
   ]
  },
  {
   "cell_type": "code",
   "execution_count": 17,
   "id": "022761bc",
   "metadata": {},
   "outputs": [
    {
     "name": "stdout",
     "output_type": "stream",
     "text": [
      "tensor([[[1.4377, 1.6169, 0.0000, 0.9204],\n",
      "         [0.0000, 1.2179, 1.0838, 0.0000],\n",
      "         [0.0000, 0.1340, 1.0217, 0.0000],\n",
      "         [0.1566, 1.0284, 0.1382, 0.7464]]])\n",
      "tensor([[[1.4377, 1.6169, 1.3284, 0.9204],\n",
      "         [0.0000, 1.2179, 0.0000, 0.5599],\n",
      "         [0.0000, 0.0000, 0.0000, 0.4390],\n",
      "         [0.1566, 1.0284, 0.1382, 0.7464]]])\n"
     ]
    }
   ],
   "source": [
    "my_tensor = torch.rand(1, 4, 4)\n",
    "\n",
    "dropout = torch.nn.Dropout(p=0.4)\n",
    "print(dropout(my_tensor))\n",
    "print(dropout(my_tensor))"
   ]
  },
  {
   "cell_type": "markdown",
   "id": "dbd2ff8f",
   "metadata": {},
   "source": [
    "Above, you can see the effect of dropout on a sample tensor. You can use the optional p argument to set the probability of an individual weight dropping out; if you don’t it defaults to 0.5.\n",
    "\n",
    "## Activation Functions\n",
    "Activation functions make deep learning possible. A neural network is really a program - with many parameters - that simulates a mathematical function. If all we did was multiple tensors by layer weights repeatedly, we could only simulate linear functions; further, there would be no point to having many layers, as the whole network would reduce could be reduced to a single matrix multiplication. Inserting non-linear activation functions between layers is what allows a deep learning model to simulate any function, rather than just linear ones.\n",
    "\n",
    "torch.nn.Module has objects encapsulating all of the major activation functions including ReLU and its many variants, Tanh, Hardtanh, sigmoid, and more. It also includes other functions, such as Softmax, that are most useful at the output stage of a model.\n",
    "\n",
    "## Loss Functions\n",
    "Loss functions tell us how far a model’s prediction is from the correct answer. PyTorch contains a variety of loss functions, including common MSE (mean squared error = L2 norm), Cross Entropy Loss and Negative Likelihood Loss (useful for classifiers), and others.\n",
    "\n"
   ]
  },
  {
   "cell_type": "code",
   "execution_count": null,
   "id": "427899f6",
   "metadata": {},
   "outputs": [],
   "source": []
  }
 ],
 "metadata": {
  "kernelspec": {
   "display_name": "Python 3 (ipykernel)",
   "language": "python",
   "name": "python3"
  },
  "language_info": {
   "codemirror_mode": {
    "name": "ipython",
    "version": 3
   },
   "file_extension": ".py",
   "mimetype": "text/x-python",
   "name": "python",
   "nbconvert_exporter": "python",
   "pygments_lexer": "ipython3",
   "version": "3.9.6"
  }
 },
 "nbformat": 4,
 "nbformat_minor": 5
}
