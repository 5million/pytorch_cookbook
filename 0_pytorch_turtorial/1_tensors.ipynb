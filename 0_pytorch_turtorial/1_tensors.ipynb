{
 "cells": [
  {
   "cell_type": "code",
   "execution_count": 4,
   "id": "c4edb58b",
   "metadata": {},
   "outputs": [
    {
     "data": {
      "text/plain": [
       "<torch._C.Generator at 0x7fe2e4cc7270>"
      ]
     },
     "execution_count": 4,
     "metadata": {},
     "output_type": "execute_result"
    }
   ],
   "source": [
    "import torch\n",
    "import numpy as np\n",
    "torch.manual_seed(7)"
   ]
  },
  {
   "cell_type": "markdown",
   "id": "524cdbeb",
   "metadata": {},
   "source": [
    "# 1. Creating Tensors\n",
    "## 1.1 directly from data\n",
    " **torch.tensor(data, dtype=None, device=None, requires_grad=False, pin_memory=False)**"
   ]
  },
  {
   "cell_type": "code",
   "execution_count": 5,
   "id": "21c52a77",
   "metadata": {},
   "outputs": [
    {
     "data": {
      "text/plain": [
       "tensor([[ 0.1000,  2.0000],\n",
       "        [-2.0000,  3.0000],\n",
       "        [ 0.5000,  0.2000]])"
      ]
     },
     "execution_count": 5,
     "metadata": {},
     "output_type": "execute_result"
    }
   ],
   "source": [
    "data = [[0.1, 2], [-2, 3], [0.5, 0.2]]\n",
    "torch.tensor(data)"
   ]
  },
  {
   "cell_type": "markdown",
   "id": "20e125fb",
   "metadata": {},
   "source": [
    "## 1.2 from numpy\n",
    " **torch.from_numpy(ndarray, dtype=None, device=None, requires_grad=False, pin_memory=False)**\n",
    "\n",
    "In the section above on broadcasting, it was mentioned that PyTorch’s broadcast semantics are compatible with NumPy’s - but the kinship between PyTorch and NumPy goes even deeper than that.\n",
    "\n",
    "If you have existing ML or scientific code with data stored in NumPy ndarrays, you may wish to express that same data as PyTorch tensors, whether to take advantage of PyTorch’s GPU acceleration, or its efficient abstractions for building ML models. It’s easy to switch between ndarrays and PyTorch tensors:"
   ]
  },
  {
   "cell_type": "code",
   "execution_count": 28,
   "id": "a5d55ef5",
   "metadata": {},
   "outputs": [
    {
     "data": {
      "text/plain": [
       "tensor([[ 0.1000,  2.0000],\n",
       "        [-2.0000,  3.0000],\n",
       "        [ 0.5000,  0.2000]], dtype=torch.float64)"
      ]
     },
     "execution_count": 28,
     "metadata": {},
     "output_type": "execute_result"
    }
   ],
   "source": [
    "data = np.array(data)\n",
    "torch.from_numpy(data)"
   ]
  },
  {
   "cell_type": "markdown",
   "id": "661a8db3",
   "metadata": {},
   "source": [
    "PyTorch creates a tensor of the same shape and containing the same data as the NumPy array, going so far as to keep NumPy’s default 64-bit float data type.\n",
    "\n",
    "The conversion can just as easily go the other way:"
   ]
  },
  {
   "cell_type": "code",
   "execution_count": 60,
   "id": "a7240caa",
   "metadata": {},
   "outputs": [
    {
     "name": "stdout",
     "output_type": "stream",
     "text": [
      "tensor([[0.0896, 0.1464, 0.1304],\n",
      "        [0.4130, 0.0800, 0.6579]])\n",
      "[[0.08962834 0.14639658 0.13041377]\n",
      " [0.41298044 0.07995176 0.6578799 ]]\n"
     ]
    }
   ],
   "source": [
    "pytorch_rand = torch.rand(2, 3)\n",
    "print(pytorch_rand)\n",
    "\n",
    "numpy_rand = pytorch_rand.numpy()\n",
    "print(numpy_rand)"
   ]
  },
  {
   "cell_type": "markdown",
   "id": "bbaf2c90",
   "metadata": {},
   "source": [
    "It is important to know that these converted objects are using the same underlying memory as their source objects, meaning that changes to one are reflected in the other:"
   ]
  },
  {
   "cell_type": "code",
   "execution_count": 61,
   "id": "06e68ce6",
   "metadata": {},
   "outputs": [
    {
     "name": "stdout",
     "output_type": "stream",
     "text": [
      "tensor([[ 1.,  1.,  1.],\n",
      "        [ 1., 23.,  1.]], dtype=torch.float64)\n",
      "[[ 0.08962834  0.14639658  0.13041377]\n",
      " [ 0.41298044 17.          0.6578799 ]]\n"
     ]
    }
   ],
   "source": [
    "numpy_array[1, 1] = 23\n",
    "print(pytorch_tensor)\n",
    "\n",
    "pytorch_rand[1, 1] = 17\n",
    "print(numpy_rand)"
   ]
  },
  {
   "cell_type": "markdown",
   "id": "1154138d",
   "metadata": {},
   "source": [
    "## 1.3 from another tensor\n",
    "**torch.ones_like(input, dtype=None, layout=None, device=None, requires_grad=False)**\\\n",
    "**torch.zeros_like(input, dtype=None, layout=None, device=None, requires_grad=False**\\\n",
    "**torch.empty_like(input)**\\\n",
    "**torch.rand_like(input)**\n",
    "\n",
    "The new tensor retains the properties (shape, datatype) of the argument tensor, unless explicitly overridden."
   ]
  },
  {
   "cell_type": "code",
   "execution_count": 30,
   "id": "e8451d0b",
   "metadata": {},
   "outputs": [
    {
     "data": {
      "text/plain": [
       "tensor([[1., 1.],\n",
       "        [1., 1.],\n",
       "        [1., 1.]], dtype=torch.float64)"
      ]
     },
     "execution_count": 30,
     "metadata": {},
     "output_type": "execute_result"
    }
   ],
   "source": [
    "tensor = torch.from_numpy(data)\n",
    "torch.ones_like(tensor)"
   ]
  },
  {
   "cell_type": "code",
   "execution_count": 31,
   "id": "7458bee6",
   "metadata": {},
   "outputs": [
    {
     "data": {
      "text/plain": [
       "tensor([[0., 0.],\n",
       "        [0., 0.],\n",
       "        [0., 0.]], dtype=torch.float64)"
      ]
     },
     "execution_count": 31,
     "metadata": {},
     "output_type": "execute_result"
    }
   ],
   "source": [
    "torch.zeros_like(tensor)"
   ]
  },
  {
   "cell_type": "code",
   "execution_count": 41,
   "id": "e1a40717",
   "metadata": {},
   "outputs": [
    {
     "data": {
      "text/plain": [
       "tensor([[3.1416, 3.1416],\n",
       "        [3.1416, 3.1416],\n",
       "        [3.1416, 3.1416]], dtype=torch.float64)"
      ]
     },
     "execution_count": 41,
     "metadata": {},
     "output_type": "execute_result"
    }
   ],
   "source": [
    "torch.full_like(tensor, 3.14159)"
   ]
  },
  {
   "cell_type": "markdown",
   "id": "b4b6a3fb",
   "metadata": {},
   "source": [
    "## 1.4 with random or constant values\n",
    "**torch.empty(shape)**\n",
    "**torch.ones(*size, out=None, dtype=None, layout=torch.strided, device=None, required_grad=False)**\\\n",
    "**torch.zeros(*size, out=None, dtype=None, layout=torch.strided, device=None, required_grad=False)**\\\n",
    "**torch.full(size, fill_value, out=None, dtype=None, layout=torch.strided, device=None, required_grad=False)**\\\n",
    "**torch.arange(start=0, end, step=1, out=None, dtype=None, layout=torch.strided, device=None, requires_grad=False)**\\\n",
    "**torch.linspace(start, end, steps=100, out=None, dtype=None, layout=torch.strided, device=None, requires_grad=False)**\\\n",
    "**torch.logspace(start, end, steps=100, base=10.0, out=None, dtype=None, layout=torch.strided, device=None, requires_grad=False)**\\\n",
    "**torch.eye(n, m=None, out=None, dtype=None, layout=torch.strided, device=None, requires_grad=False)**\\\n",
    "\n",
    "shape is a tuple of tensor dimensions. In the functions below, it determines the dimensionality of the output tensor\n",
    "\n"
   ]
  },
  {
   "cell_type": "code",
   "execution_count": 34,
   "id": "8842f3d3",
   "metadata": {},
   "outputs": [
    {
     "data": {
      "text/plain": [
       "tensor([[0.5349, 0.1988, 0.6592],\n",
       "        [0.6569, 0.2328, 0.4251]])"
      ]
     },
     "execution_count": 34,
     "metadata": {},
     "output_type": "execute_result"
    }
   ],
   "source": [
    "shape = (2, 3,)\n",
    "torch.rand(shape)"
   ]
  },
  {
   "cell_type": "markdown",
   "id": "5b11b6c3",
   "metadata": {},
   "source": [
    "Speaking of the random tensor, did you notice the call to torch.manual_seed() immediately preceding it? Initializing tensors, such as a model’s learning weights, with random values is common but there are times - especially in research settings - where you’ll want some assurance of the reproducibility of your results. Manually setting your random number generator’s seed is the way to do this. Let’s look more closely:"
   ]
  },
  {
   "cell_type": "code",
   "execution_count": 74,
   "id": "a3b11cf2",
   "metadata": {},
   "outputs": [
    {
     "name": "stdout",
     "output_type": "stream",
     "text": [
      "tensor([[0.3126, 0.3791, 0.3087],\n",
      "        [0.0736, 0.4216, 0.0691]])\n",
      "tensor([[0.2332, 0.4047, 0.2162],\n",
      "        [0.9927, 0.4128, 0.5938]])\n",
      "tensor([[0.3126, 0.3791, 0.3087],\n",
      "        [0.0736, 0.4216, 0.0691]])\n",
      "tensor([[0.2332, 0.4047, 0.2162],\n",
      "        [0.9927, 0.4128, 0.5938]])\n"
     ]
    }
   ],
   "source": [
    "torch.manual_seed(1729)\n",
    "random1 = torch.rand(2, 3)\n",
    "print(random1)\n",
    "\n",
    "random2 = torch.rand(2, 3)\n",
    "print(random2)\n",
    "\n",
    "torch.manual_seed(1729)\n",
    "random3 = torch.rand(2, 3)\n",
    "print(random3)\n",
    "\n",
    "random4 = torch.rand(2, 3)\n",
    "print(random4)"
   ]
  },
  {
   "cell_type": "code",
   "execution_count": 37,
   "id": "3713dbf6",
   "metadata": {},
   "outputs": [
    {
     "data": {
      "text/plain": [
       "tensor([[0., 0., 0.],\n",
       "        [0., 0., -0.]])"
      ]
     },
     "execution_count": 37,
     "metadata": {},
     "output_type": "execute_result"
    }
   ],
   "source": [
    "torch.empty(shape)"
   ]
  },
  {
   "cell_type": "code",
   "execution_count": 35,
   "id": "5b800705",
   "metadata": {},
   "outputs": [
    {
     "data": {
      "text/plain": [
       "tensor([[1., 1., 1.],\n",
       "        [1., 1., 1.]])"
      ]
     },
     "execution_count": 35,
     "metadata": {},
     "output_type": "execute_result"
    }
   ],
   "source": [
    "torch.ones(shape)"
   ]
  },
  {
   "cell_type": "code",
   "execution_count": 36,
   "id": "acedcc24",
   "metadata": {},
   "outputs": [
    {
     "data": {
      "text/plain": [
       "tensor([[0., 0., 0.],\n",
       "        [0., 0., 0.]])"
      ]
     },
     "execution_count": 36,
     "metadata": {},
     "output_type": "execute_result"
    }
   ],
   "source": [
    "torch.zeros(shape)"
   ]
  },
  {
   "cell_type": "code",
   "execution_count": 40,
   "id": "514f65a1",
   "metadata": {},
   "outputs": [
    {
     "data": {
      "text/plain": [
       "tensor([[3, 3, 3],\n",
       "        [3, 3, 3]])"
      ]
     },
     "execution_count": 40,
     "metadata": {},
     "output_type": "execute_result"
    }
   ],
   "source": [
    "torch.full(shape, 3)"
   ]
  },
  {
   "cell_type": "code",
   "execution_count": 43,
   "id": "81d9b119",
   "metadata": {},
   "outputs": [
    {
     "data": {
      "text/plain": [
       "tensor([1.0000, 1.5000, 2.0000])"
      ]
     },
     "execution_count": 43,
     "metadata": {},
     "output_type": "execute_result"
    }
   ],
   "source": [
    "torch.arange(1, 2.5, 0.5)"
   ]
  },
  {
   "cell_type": "code",
   "execution_count": 44,
   "id": "19179e3c",
   "metadata": {},
   "outputs": [
    {
     "data": {
      "text/plain": [
       "tensor([-10.,  -5.,   0.,   5.,  10.])"
      ]
     },
     "execution_count": 44,
     "metadata": {},
     "output_type": "execute_result"
    }
   ],
   "source": [
    "torch.linspace(-10, 10, 5)"
   ]
  },
  {
   "cell_type": "code",
   "execution_count": 45,
   "id": "bc103864",
   "metadata": {},
   "outputs": [
    {
     "data": {
      "text/plain": [
       "tensor([ 1.2589,  2.1135,  3.5481,  5.9566, 10.0000])"
      ]
     },
     "execution_count": 45,
     "metadata": {},
     "output_type": "execute_result"
    }
   ],
   "source": [
    "torch.logspace(0.1, 1, 5)"
   ]
  },
  {
   "cell_type": "code",
   "execution_count": 50,
   "id": "69fe3c93",
   "metadata": {},
   "outputs": [
    {
     "data": {
      "text/plain": [
       "tensor([[1., 0., 0., 0.],\n",
       "        [0., 1., 0., 0.],\n",
       "        [0., 0., 1., 0.],\n",
       "        [0., 0., 0., 1.]])"
      ]
     },
     "execution_count": 50,
     "metadata": {},
     "output_type": "execute_result"
    }
   ],
   "source": [
    "torch.eye(4)"
   ]
  },
  {
   "cell_type": "markdown",
   "id": "45dcfd50",
   "metadata": {},
   "source": [
    "##  1.5 according to probability distribution\n",
    "**torch.normal(mean, std, out=None)**\\\n",
    "**正态分布: torch.randn(*size, out=None, dtype=None, layout=torch.strided, device=None, requires_grad=False)**\\\n",
    "**均匀分布: torch.rand(*size, out=None, dtype=None, layout=torch.strided, device=None, requires_grad=False)**\\\n",
    "**均匀分布: torch.randint(low=0, high, size, out=None, dtype=None, layout=torch.strided, device=None, requires_grad=False)**\\\n",
    "**随机排列: torch.randperm(n, out=None, dtype=torch.int64, layout=torch.strided, device=None, requires_grad=False)**\\\n",
    "**伯努利分布: torch.bernoulli(input, *, generator=None, out=None)**\n",
    "\n"
   ]
  },
  {
   "cell_type": "code",
   "execution_count": 55,
   "id": "21effb12",
   "metadata": {},
   "outputs": [
    {
     "data": {
      "text/plain": [
       "tensor([-0.2514,  0.3043,  3.3566,  3.5052,  4.0550,  5.6841,  7.0085,  7.8919,\n",
       "         9.1132, 10.0214])"
      ]
     },
     "execution_count": 55,
     "metadata": {},
     "output_type": "execute_result"
    }
   ],
   "source": [
    "torch.normal(torch.arange(1., 11.), torch.arange(1, 0, -0.1))"
   ]
  },
  {
   "cell_type": "code",
   "execution_count": 149,
   "id": "734b939d",
   "metadata": {},
   "outputs": [
    {
     "data": {
      "text/plain": [
       "tensor([ 0.2239,  1.4996,  1.1819, -0.5354,  0.8123,  1.1935,  1.1532,  0.7853,\n",
       "         0.7847,  0.7890])"
      ]
     },
     "execution_count": 149,
     "metadata": {},
     "output_type": "execute_result"
    }
   ],
   "source": [
    "torch.normal(torch.tensor(1.), torch.arange(1, 0, -0.1))"
   ]
  },
  {
   "cell_type": "code",
   "execution_count": 157,
   "id": "0043ebbe",
   "metadata": {},
   "outputs": [
    {
     "data": {
      "text/plain": [
       "tensor([0.9784, 3.1832, 2.9405, 4.5592, 5.2700, 5.6584, 7.1437, 7.6651, 9.0430,\n",
       "        9.4740])"
      ]
     },
     "execution_count": 157,
     "metadata": {},
     "output_type": "execute_result"
    }
   ],
   "source": [
    "torch.normal(torch.arange(1., 11.), torch.tensor(0.4))"
   ]
  },
  {
   "cell_type": "code",
   "execution_count": 159,
   "id": "4b217ac4",
   "metadata": {},
   "outputs": [
    {
     "data": {
      "text/plain": [
       "tensor(-4.0019)"
      ]
     },
     "execution_count": 159,
     "metadata": {},
     "output_type": "execute_result"
    }
   ],
   "source": [
    "torch.normal(torch.tensor(-1.), torch.tensor(2))"
   ]
  },
  {
   "cell_type": "code",
   "execution_count": 60,
   "id": "7fb46675",
   "metadata": {},
   "outputs": [
    {
     "data": {
      "text/plain": [
       "tensor([[ 0.4589, -0.1495,  2.2695, -0.0911]])"
      ]
     },
     "execution_count": 60,
     "metadata": {},
     "output_type": "execute_result"
    }
   ],
   "source": [
    "torch.normal(0, 1, (1, 4))"
   ]
  },
  {
   "cell_type": "code",
   "execution_count": 61,
   "id": "759e8a0f",
   "metadata": {},
   "outputs": [
    {
     "data": {
      "text/plain": [
       "tensor([[ 0.9732, -1.1010, -0.7484],\n",
       "        [ 1.9863, -0.2902, -2.4220]])"
      ]
     },
     "execution_count": 61,
     "metadata": {},
     "output_type": "execute_result"
    }
   ],
   "source": [
    "torch.randn(2, 3)"
   ]
  },
  {
   "cell_type": "code",
   "execution_count": 9,
   "id": "a850fc36",
   "metadata": {},
   "outputs": [
    {
     "name": "stdout",
     "output_type": "stream",
     "text": [
      "tensor([[0.3126, 0.3791, 0.3087],\n",
      "        [0.0736, 0.4216, 0.0691]])\n",
      "tensor([[0.2332, 0.4047, 0.2162],\n",
      "        [0.9927, 0.4128, 0.5938]])\n",
      "tensor([[0.3126, 0.3791, 0.3087],\n",
      "        [0.0736, 0.4216, 0.0691]])\n",
      "tensor([[0.2332, 0.4047, 0.2162],\n",
      "        [0.9927, 0.4128, 0.5938]])\n"
     ]
    }
   ],
   "source": [
    "torch.manual_seed(1729)\n",
    "random1 = torch.rand(2, 3)\n",
    "print(random1)\n",
    "\n",
    "random2 = torch.rand(2, 3)\n",
    "print(random2)\n",
    "\n",
    "torch.manual_seed(1729)\n",
    "random3 = torch.rand(2, 3)\n",
    "print(random3)\n",
    "\n",
    "random4 = torch.rand(2, 3)\n",
    "print(random4)"
   ]
  },
  {
   "cell_type": "code",
   "execution_count": 62,
   "id": "88f427de",
   "metadata": {},
   "outputs": [
    {
     "data": {
      "text/plain": [
       "tensor([[0.1049, 0.5137, 0.2674],\n",
       "        [0.4990, 0.7447, 0.7213]])"
      ]
     },
     "execution_count": 62,
     "metadata": {},
     "output_type": "execute_result"
    }
   ],
   "source": [
    "torch.rand(2, 3)"
   ]
  },
  {
   "cell_type": "code",
   "execution_count": 63,
   "id": "bc46efe6",
   "metadata": {},
   "outputs": [
    {
     "data": {
      "text/plain": [
       "tensor([[9, 3],\n",
       "        [4, 6]])"
      ]
     },
     "execution_count": 63,
     "metadata": {},
     "output_type": "execute_result"
    }
   ],
   "source": [
    "torch.randint(3, 10, (2, 2))"
   ]
  },
  {
   "cell_type": "code",
   "execution_count": 65,
   "id": "e563d899",
   "metadata": {},
   "outputs": [
    {
     "data": {
      "text/plain": [
       "tensor([7, 4, 0, 1, 3, 2, 5, 6])"
      ]
     },
     "execution_count": 65,
     "metadata": {},
     "output_type": "execute_result"
    }
   ],
   "source": [
    "torch.randperm(8)"
   ]
  },
  {
   "cell_type": "code",
   "execution_count": 66,
   "id": "34d1b930",
   "metadata": {},
   "outputs": [
    {
     "data": {
      "text/plain": [
       "tensor([[0., 1., 1.],\n",
       "        [0., 0., 0.],\n",
       "        [0., 0., 1.]])"
      ]
     },
     "execution_count": 66,
     "metadata": {},
     "output_type": "execute_result"
    }
   ],
   "source": [
    "tensor = torch.empty(3, 3).uniform_(0, 1)\n",
    "torch.bernoulli(tensor)"
   ]
  },
  {
   "cell_type": "markdown",
   "id": "e651b3f5",
   "metadata": {},
   "source": [
    "# 2. Attributes of a Tensor"
   ]
  },
  {
   "cell_type": "code",
   "execution_count": 8,
   "id": "3378c209",
   "metadata": {},
   "outputs": [
    {
     "name": "stdout",
     "output_type": "stream",
     "text": [
      "<class 'torch.Tensor'>\n",
      "torch.float32\n",
      "torch.Size([3])\n",
      "cpu\n",
      "tensor([8.4078e-45, 0.0000e+00, 0.0000e+00])\n"
     ]
    }
   ],
   "source": [
    "tensor = torch.empty(3)\n",
    "print(type(tensor))\n",
    "print(tensor.dtype)\n",
    "print(tensor.shape)\n",
    "print(tensor.device)\n",
    "print(tensor)"
   ]
  },
  {
   "cell_type": "markdown",
   "id": "d7056e82",
   "metadata": {},
   "source": [
    "## 2.1 Tensor Data Types\n",
    "The type of the object returned is torch.Tensor, which is an alias for torch.FloatTensor; by default, PyTorch tensors are populated with 32-bit floating point numbers. (More on data types below.)\n",
    "\n",
    "You will probably see some random-looking values when printing your tensor. The torch.empty() call allocates memory for the tensor, but does not initialize it with any values - so what you’re seeing is whatever was in memory at the time of allocation."
   ]
  },
  {
   "cell_type": "code",
   "execution_count": 10,
   "id": "50a5bbc2",
   "metadata": {},
   "outputs": [
    {
     "name": "stdout",
     "output_type": "stream",
     "text": [
      "tensor([[1, 1, 1],\n",
      "        [1, 1, 1]], dtype=torch.int16)\n",
      "tensor([[18.0429,  7.2532, 19.6519],\n",
      "        [10.8626,  2.1505, 19.6913]], dtype=torch.float64)\n",
      "tensor([[18,  7, 19],\n",
      "        [10,  2, 19]], dtype=torch.int32)\n"
     ]
    }
   ],
   "source": [
    "a = torch.ones((2, 3), dtype=torch.int16)\n",
    "print(a)\n",
    "\n",
    "b = torch.rand((2, 3), dtype=torch.float64) * 20.\n",
    "print(b)\n",
    "\n",
    "c = b.to(torch.int32)\n",
    "print(c)"
   ]
  },
  {
   "cell_type": "markdown",
   "id": "4d779a7f",
   "metadata": {},
   "source": [
    "* The simplest way to set the underlying data type of a tensor is with an optional argument at creation time. In the first line of the cell above, we set dtype=torch.int16 for the tensor a. When we print a, we can see that it’s full of 1 rather than 1. - Python’s subtle cue that this is an integer type rather than floating point.\n",
    "* Another thing to notice about printing a is that, unlike when we left dtype as the default (32-bit floating point), printing the tensor also specifies its dtype.\n",
    "\n",
    "* You may have also spotted that we went from specifying the tensor’s shape as a series of integer arguments, to grouping those arguments in a tuple. This is not strictly necessary - PyTorch will take a series of initial, unlabeled integer arguments as a tensor shape - but when adding the optional arguments, it can make your intent more readable.\n",
    "\n",
    "* The other way to set the datatype is with the .to() method. In the cell above, we create a random floating point tensor b in the usual way. Following that, we create c by converting b to a 32-bit integer with the .to() method. Note that c contains all the same values as b, but truncated to integers.\n",
    "\n",
    "* Available data types include:\n",
    "\n",
    "  * torch.bool\n",
    "  * torch.int8\n",
    "  * torch.uint8\n",
    "  * torch.int16\n",
    "  * torch.int32\n",
    "  * torch.int64\n",
    "  * torch.half\n",
    "  * torch.float\n",
    "  * torch.double\n",
    "  * torch.bfloat"
   ]
  },
  {
   "cell_type": "markdown",
   "id": "7f2e67ba",
   "metadata": {},
   "source": [
    "# 3. tensor operation\n",
    "## 3.1 Standard numpy-like indexing and slicing:"
   ]
  },
  {
   "cell_type": "code",
   "execution_count": 47,
   "id": "08c2311f",
   "metadata": {},
   "outputs": [
    {
     "name": "stdout",
     "output_type": "stream",
     "text": [
      "tensor([[1., 1., 1., 1.],\n",
      "        [1., 1., 1., 1.],\n",
      "        [1., 1., 1., 1.],\n",
      "        [1., 1., 1., 1.]])\n",
      "tensor([[0., 1., 0., 1.],\n",
      "        [0., 1., 0., 1.],\n",
      "        [0., 1., 0., 1.],\n",
      "        [0., 1., 0., 1.]])\n",
      "tensor([[2., 2., 2., 2.],\n",
      "        [2., 2., 2., 2.],\n",
      "        [0., 1., 0., 1.],\n",
      "        [0., 1., 0., 1.]])\n"
     ]
    }
   ],
   "source": [
    "tensor = torch.ones(4, 4)\n",
    "print(tensor)\n",
    "tensor[:, ::2] = 0\n",
    "print(tensor)\n",
    "tensor[:2, :] = 2\n",
    "print(tensor)"
   ]
  },
  {
   "cell_type": "code",
   "execution_count": 48,
   "id": "c116196f",
   "metadata": {},
   "outputs": [
    {
     "name": "stdout",
     "output_type": "stream",
     "text": [
      "tensor([0., 1., 0., 1.])\n"
     ]
    }
   ],
   "source": [
    "print(tensor[-1, ...])"
   ]
  },
  {
   "cell_type": "markdown",
   "id": "92e403ab",
   "metadata": {},
   "source": [
    "## 3.2 Joining tensors \n",
    "* torch.cat(tensors, dim=0, out=None)\n",
    "* torch.stack(tensors, dim=0, out=None)\n",
    "* torch.chunk(input, chunks, dim=0)\n",
    "* torch.split(tensor, split_size_or_sections, dim=0)"
   ]
  },
  {
   "cell_type": "code",
   "execution_count": 13,
   "id": "4672efd3",
   "metadata": {},
   "outputs": [
    {
     "data": {
      "text/plain": [
       "tensor([[ 0.9329, -0.9412],\n",
       "        [ 0.5536, -0.6499],\n",
       "        [-1.5436, -0.5975]])"
      ]
     },
     "execution_count": 13,
     "metadata": {},
     "output_type": "execute_result"
    }
   ],
   "source": [
    "tensor = torch.randn(3, 2)\n",
    "tensor"
   ]
  },
  {
   "cell_type": "code",
   "execution_count": 14,
   "id": "53f22e93",
   "metadata": {},
   "outputs": [
    {
     "data": {
      "text/plain": [
       "tensor([[ 0.9329, -0.9412],\n",
       "        [ 0.5536, -0.6499],\n",
       "        [-1.5436, -0.5975],\n",
       "        [ 0.9329, -0.9412],\n",
       "        [ 0.5536, -0.6499],\n",
       "        [-1.5436, -0.5975],\n",
       "        [ 0.9329, -0.9412],\n",
       "        [ 0.5536, -0.6499],\n",
       "        [-1.5436, -0.5975]])"
      ]
     },
     "execution_count": 14,
     "metadata": {},
     "output_type": "execute_result"
    }
   ],
   "source": [
    "torch.cat((tensor, tensor, tensor), 0)"
   ]
  },
  {
   "cell_type": "code",
   "execution_count": 15,
   "id": "c75ae6a7",
   "metadata": {},
   "outputs": [
    {
     "data": {
      "text/plain": [
       "tensor([[ 0.9329, -0.9412,  0.9329, -0.9412,  0.9329, -0.9412],\n",
       "        [ 0.5536, -0.6499,  0.5536, -0.6499,  0.5536, -0.6499],\n",
       "        [-1.5436, -0.5975, -1.5436, -0.5975, -1.5436, -0.5975]])"
      ]
     },
     "execution_count": 15,
     "metadata": {},
     "output_type": "execute_result"
    }
   ],
   "source": [
    "torch.cat((tensor, tensor, tensor), 1)"
   ]
  },
  {
   "cell_type": "code",
   "execution_count": 16,
   "id": "cf2cc373",
   "metadata": {},
   "outputs": [
    {
     "data": {
      "text/plain": [
       "tensor([[[ 0.9329, -0.9412],\n",
       "         [ 0.5536, -0.6499],\n",
       "         [-1.5436, -0.5975]],\n",
       "\n",
       "        [[ 0.9329, -0.9412],\n",
       "         [ 0.5536, -0.6499],\n",
       "         [-1.5436, -0.5975]],\n",
       "\n",
       "        [[ 0.9329, -0.9412],\n",
       "         [ 0.5536, -0.6499],\n",
       "         [-1.5436, -0.5975]]])"
      ]
     },
     "execution_count": 16,
     "metadata": {},
     "output_type": "execute_result"
    }
   ],
   "source": [
    "torch.stack((tensor, tensor, tensor), 0)"
   ]
  },
  {
   "cell_type": "code",
   "execution_count": 17,
   "id": "c766d840",
   "metadata": {},
   "outputs": [
    {
     "data": {
      "text/plain": [
       "tensor([[[ 0.9329, -0.9412],\n",
       "         [ 0.9329, -0.9412],\n",
       "         [ 0.9329, -0.9412]],\n",
       "\n",
       "        [[ 0.5536, -0.6499],\n",
       "         [ 0.5536, -0.6499],\n",
       "         [ 0.5536, -0.6499]],\n",
       "\n",
       "        [[-1.5436, -0.5975],\n",
       "         [-1.5436, -0.5975],\n",
       "         [-1.5436, -0.5975]]])"
      ]
     },
     "execution_count": 17,
     "metadata": {},
     "output_type": "execute_result"
    }
   ],
   "source": [
    "torch.stack((tensor, tensor, tensor), 1)"
   ]
  },
  {
   "cell_type": "code",
   "execution_count": 18,
   "id": "416d1d11",
   "metadata": {},
   "outputs": [
    {
     "data": {
      "text/plain": [
       "tensor([[[ 0.9329,  0.9329,  0.9329],\n",
       "         [-0.9412, -0.9412, -0.9412]],\n",
       "\n",
       "        [[ 0.5536,  0.5536,  0.5536],\n",
       "         [-0.6499, -0.6499, -0.6499]],\n",
       "\n",
       "        [[-1.5436, -1.5436, -1.5436],\n",
       "         [-0.5975, -0.5975, -0.5975]]])"
      ]
     },
     "execution_count": 18,
     "metadata": {},
     "output_type": "execute_result"
    }
   ],
   "source": [
    "torch.stack((tensor, tensor, tensor), 2)"
   ]
  },
  {
   "cell_type": "markdown",
   "id": "2c5ff962",
   "metadata": {},
   "source": [
    "## 3.3 Manipulating Tensor Shapes\n",
    "### 3.3.1 change tensor shape\n",
    "**torch.reshape(input, shape)**\\\n",
    "**torch.transpose(input, dim0, dim1)**\n",
    "\n",
    "Sometimes, you’ll need to change the shape of your tensor. Below, we’ll look at a few common cases, and how to handle them."
   ]
  },
  {
   "cell_type": "code",
   "execution_count": 22,
   "id": "a8460fc6",
   "metadata": {},
   "outputs": [
    {
     "data": {
      "text/plain": [
       "(tensor([[ 0.9329, -0.9412]]),\n",
       " tensor([[ 0.5536, -0.6499]]),\n",
       " tensor([[-1.5436, -0.5975]]))"
      ]
     },
     "execution_count": 22,
     "metadata": {},
     "output_type": "execute_result"
    }
   ],
   "source": [
    "torch.chunk(tensor, 3, 0)"
   ]
  },
  {
   "cell_type": "code",
   "execution_count": 23,
   "id": "34fe13ed",
   "metadata": {},
   "outputs": [
    {
     "data": {
      "text/plain": [
       "(tensor([[ 0.9329],\n",
       "         [ 0.5536],\n",
       "         [-1.5436]]),\n",
       " tensor([[-0.9412],\n",
       "         [-0.6499],\n",
       "         [-0.5975]]))"
      ]
     },
     "execution_count": 23,
     "metadata": {},
     "output_type": "execute_result"
    }
   ],
   "source": [
    "torch.chunk(tensor, 2, 1)"
   ]
  },
  {
   "cell_type": "code",
   "execution_count": 24,
   "id": "22310a36",
   "metadata": {},
   "outputs": [
    {
     "data": {
      "text/plain": [
       "(tensor([[ 0.9329, -0.9412]]),\n",
       " tensor([[ 0.5536, -0.6499]]),\n",
       " tensor([[-1.5436, -0.5975]]))"
      ]
     },
     "execution_count": 24,
     "metadata": {},
     "output_type": "execute_result"
    }
   ],
   "source": [
    "torch.split(tensor, 1, 0)"
   ]
  },
  {
   "cell_type": "code",
   "execution_count": 26,
   "id": "1a84c4a9",
   "metadata": {},
   "outputs": [
    {
     "data": {
      "text/plain": [
       "(tensor([[ 0.9329],\n",
       "         [ 0.5536],\n",
       "         [-1.5436]]),\n",
       " tensor([[-0.9412],\n",
       "         [-0.6499],\n",
       "         [-0.5975]]))"
      ]
     },
     "execution_count": 26,
     "metadata": {},
     "output_type": "execute_result"
    }
   ],
   "source": [
    "torch.split(tensor, 1, 1)"
   ]
  },
  {
   "cell_type": "code",
   "execution_count": 27,
   "id": "3e7ed240",
   "metadata": {},
   "outputs": [
    {
     "data": {
      "text/plain": [
       "tensor([[ 0.9329, -0.9412,  0.5536],\n",
       "        [-0.6499, -1.5436, -0.5975]])"
      ]
     },
     "execution_count": 27,
     "metadata": {},
     "output_type": "execute_result"
    }
   ],
   "source": [
    "torch.reshape(tensor, (2, 3))"
   ]
  },
  {
   "cell_type": "code",
   "execution_count": 28,
   "id": "830fc627",
   "metadata": {},
   "outputs": [
    {
     "data": {
      "text/plain": [
       "tensor([[ 0.9329,  0.5536, -1.5436],\n",
       "        [-0.9412, -0.6499, -0.5975]])"
      ]
     },
     "execution_count": 28,
     "metadata": {},
     "output_type": "execute_result"
    }
   ],
   "source": [
    "torch.transpose(tensor, 1, 0)"
   ]
  },
  {
   "cell_type": "markdown",
   "id": "18af21a6",
   "metadata": {},
   "source": [
    "### 3.3.2 Changing the Number of Dimensions\n",
    "**torch.squeeze(input, dim=None, out=None)**\\\n",
    "**torch.unsqueeze(input, dim, out=None)**"
   ]
  },
  {
   "cell_type": "markdown",
   "id": "8a49b80a",
   "metadata": {},
   "source": [
    "One case where you might need to change the number of dimensions is passing a single instance of input to your model. PyTorch models generally expect batches of input.\n",
    "\n",
    "For example, imagine having a model that works on 3 x 226 x 226 images - a 226-pixel square with 3 color channels. When you load and transform it, you’ll get a tensor of shape (3, 226, 226). Your model, though, is expecting input of shape (N, 3, 226, 226), where N is the number of images in the batch. So how do you make a batch of one?"
   ]
  },
  {
   "cell_type": "markdown",
   "id": "d291e712",
   "metadata": {},
   "source": [
    "a = torch.rand(3, 226, 226)\n",
    "b = a.unsqueeze(0)\n",
    "\n",
    "print(a.shape)\n",
    "print(b.shape)"
   ]
  },
  {
   "cell_type": "markdown",
   "id": "d1afe336",
   "metadata": {},
   "source": [
    "The unsqueeze() method adds a dimension of extent 1. unsqueeze(0) adds it as a new zeroth dimension - now you have a batch of one!\n",
    "\n",
    "So if that’s unsqueezing? What do we mean by squeezing? We’re taking advantage of the fact that any dimension of extent 1 does not change the number of elements in the tensor."
   ]
  },
  {
   "cell_type": "code",
   "execution_count": 65,
   "id": "3fa3c067",
   "metadata": {},
   "outputs": [
    {
     "name": "stdout",
     "output_type": "stream",
     "text": [
      "tensor([[[[[0.8847]]]]])\n"
     ]
    }
   ],
   "source": [
    "c = torch.rand(1, 1, 1, 1, 1)\n",
    "print(c)"
   ]
  },
  {
   "cell_type": "markdown",
   "id": "c7ff33ab",
   "metadata": {},
   "source": [
    "Continuing the example above, let’s say the model’s output is a 20-element vector for each input. You would then expect the output to have shape (N, 20), where N is the number of instances in the input batch. That means that for our single-input batch, we’ll get an output of shape (1, 20).\n",
    "\n",
    "What if you want to do some non-batched computation with that output - something that’s just expecting a 20-element vector?"
   ]
  },
  {
   "cell_type": "code",
   "execution_count": 67,
   "id": "6e41d2a1",
   "metadata": {},
   "outputs": [
    {
     "name": "stdout",
     "output_type": "stream",
     "text": [
      "torch.Size([1, 20])\n",
      "tensor([[0.3916, 0.0970, 0.7466, 0.0299, 0.0504, 0.5025, 0.8819, 0.7465, 0.4263,\n",
      "         0.9760, 0.8199, 0.6420, 0.7517, 0.9189, 0.5772, 0.7149, 0.1006, 0.9046,\n",
      "         0.5158, 0.0369]])\n",
      "torch.Size([20])\n",
      "tensor([0.3916, 0.0970, 0.7466, 0.0299, 0.0504, 0.5025, 0.8819, 0.7465, 0.4263,\n",
      "        0.9760, 0.8199, 0.6420, 0.7517, 0.9189, 0.5772, 0.7149, 0.1006, 0.9046,\n",
      "        0.5158, 0.0369])\n",
      "torch.Size([2, 2])\n",
      "torch.Size([2, 2])\n"
     ]
    }
   ],
   "source": [
    "a = torch.rand(1, 20)\n",
    "print(a.shape)\n",
    "print(a)\n",
    "\n",
    "b = a.squeeze(0)\n",
    "print(b.shape)\n",
    "print(b)\n",
    "\n",
    "c = torch.rand(2, 2)\n",
    "print(c.shape)\n",
    "\n",
    "d = c.squeeze(0)\n",
    "print(d.shape)"
   ]
  },
  {
   "cell_type": "markdown",
   "id": "6d0fc02d",
   "metadata": {},
   "source": [
    "You can see from the shapes that our 2-dimensional tensor is now 1-dimensional, and if you look closely at the output of the cell above you’ll see that printing a shows an “extra” set of square brackets [] due to having an extra dimension.\n",
    "\n",
    "You may only squeeze() dimensions of extent 1. See above where we try to squeeze a dimension of size 2 in c, and get back the same shape we started with. Calls to squeeze() and unsqueeze() can only act on dimensions of extent 1 because to do otherwise would change the number of elements in the tensor.\n",
    "\n",
    "Another place you might use unsqueeze() is to ease broadcasting. Recall the example above where we had the following code:"
   ]
  },
  {
   "cell_type": "code",
   "execution_count": 68,
   "id": "af4f72f6",
   "metadata": {},
   "outputs": [
    {
     "name": "stdout",
     "output_type": "stream",
     "text": [
      "tensor([[[0.0187, 0.0187],\n",
      "         [0.8123, 0.8123],\n",
      "         [0.0012, 0.0012]],\n",
      "\n",
      "        [[0.0187, 0.0187],\n",
      "         [0.8123, 0.8123],\n",
      "         [0.0012, 0.0012]],\n",
      "\n",
      "        [[0.0187, 0.0187],\n",
      "         [0.8123, 0.8123],\n",
      "         [0.0012, 0.0012]],\n",
      "\n",
      "        [[0.0187, 0.0187],\n",
      "         [0.8123, 0.8123],\n",
      "         [0.0012, 0.0012]]])\n"
     ]
    }
   ],
   "source": [
    "a = torch.ones(4, 3, 2)\n",
    "\n",
    "c = a * torch.rand(3, 1) # 3rd dim = 1, 2nd dim identical to a\n",
    "print(c)"
   ]
  },
  {
   "cell_type": "markdown",
   "id": "ca8ed53f",
   "metadata": {},
   "source": [
    "The net effect of that was to broadcast the operation over dimensions 0 and 2, causing the random, 3 x 1 tensor to be multiplied element-wise by every 3-element column in a.\n",
    "\n",
    "What if the random vector had just been 3-element vector? We’d lose the ability to do the broadcast, because the final dimensions would not match up according to the broadcasting rules. unsqueeze() comes to the rescue:"
   ]
  },
  {
   "cell_type": "code",
   "execution_count": 70,
   "id": "f5b39915",
   "metadata": {},
   "outputs": [
    {
     "name": "stdout",
     "output_type": "stream",
     "text": [
      "torch.Size([3, 1])\n",
      "tensor([[[0.1476, 0.1476],\n",
      "         [0.1303, 0.1303],\n",
      "         [0.8201, 0.8201]],\n",
      "\n",
      "        [[0.1476, 0.1476],\n",
      "         [0.1303, 0.1303],\n",
      "         [0.8201, 0.8201]],\n",
      "\n",
      "        [[0.1476, 0.1476],\n",
      "         [0.1303, 0.1303],\n",
      "         [0.8201, 0.8201]],\n",
      "\n",
      "        [[0.1476, 0.1476],\n",
      "         [0.1303, 0.1303],\n",
      "         [0.8201, 0.8201]]])\n"
     ]
    }
   ],
   "source": [
    "a = torch.ones(4, 3, 2)\n",
    "b = torch.rand(3)     # trying to multiply a * b will give a runtime error\n",
    "c = b.unsqueeze(1)       # change to a 2-dimensional tensor, adding new dim at the end\n",
    "print(c.shape)\n",
    "print(a * c)             # broadcasting works again!"
   ]
  },
  {
   "cell_type": "code",
   "execution_count": 72,
   "id": "ee736a94",
   "metadata": {},
   "outputs": [
    {
     "name": "stdout",
     "output_type": "stream",
     "text": [
      "torch.Size([6, 20, 20])\n",
      "torch.Size([2400])\n",
      "torch.Size([2400])\n"
     ]
    }
   ],
   "source": [
    "output3d = torch.rand(6, 20, 20)\n",
    "print(output3d.shape)\n",
    "\n",
    "input1d = output3d.reshape(6 * 20 * 20)\n",
    "print(input1d.shape)\n",
    "\n",
    "# can also call it as a method on the torch module:\n",
    "print(torch.reshape(output3d, (6 * 20 * 20,)).shape)"
   ]
  },
  {
   "cell_type": "markdown",
   "id": "cd9da82e",
   "metadata": {},
   "source": [
    "The (6 * 20 * 20,) argument in the final line of the cell above is because PyTorch expects a tuple when specifying a tensor shape - but when the shape is the first argument of a method, it lets us cheat and just use a series of integers. Here, we had to add the parentheses and comma to convince the method that this is really a one-element tuple.\n",
    "\n",
    "When it can, reshape() will return a view on the tensor to be changed - that is, a separate tensor object looking at the same underlying region of memory. This is important: That means any change made to the source tensor will be reflected in the view on that tensor, unless you clone() it.\n",
    "\n",
    "There are conditions, beyond the scope of this introduction, where reshape() has to return a tensor carrying a copy of the data."
   ]
  },
  {
   "cell_type": "markdown",
   "id": "0f781670",
   "metadata": {},
   "source": [
    "## 3.4 Altering Tensors in Place\n",
    "There are times, though, that you may wish to alter a tensor in place - for example, if you’re doing an element-wise computation where you can discard intermediate values. For this, most of the math functions have a version with an appended underscore (_) that will alter a tensor in place."
   ]
  },
  {
   "cell_type": "code",
   "execution_count": 38,
   "id": "5e9c5a07",
   "metadata": {},
   "outputs": [
    {
     "name": "stdout",
     "output_type": "stream",
     "text": [
      "a:\n",
      "tensor([0.0000, 0.7854, 1.5708, 2.3562])\n",
      "tensor([0.0000, 0.7071, 1.0000, 0.7071])\n",
      "tensor([0.0000, 0.7854, 1.5708, 2.3562])\n",
      "\n",
      "b:\n",
      "tensor([0.0000, 0.7854, 1.5708, 2.3562])\n",
      "tensor([0.0000, 0.7071, 1.0000, 0.7071])\n",
      "tensor([0.0000, 0.7071, 1.0000, 0.7071])\n"
     ]
    }
   ],
   "source": [
    "a = torch.tensor([0, math.pi / 4, math.pi / 2, 3 * math.pi / 4])\n",
    "print('a:')\n",
    "print(a)\n",
    "print(torch.sin(a))   # this operation creates a new tensor in memory\n",
    "print(a)              # a has not changed\n",
    "\n",
    "b = torch.tensor([0, math.pi / 4, math.pi / 2, 3 * math.pi / 4])\n",
    "print('\\nb:')\n",
    "print(b)\n",
    "print(torch.sin_(b))  # note the underscore\n",
    "print(b)              # b has changed"
   ]
  },
  {
   "cell_type": "markdown",
   "id": "1c7608ff",
   "metadata": {},
   "source": [
    "Note that these in-place arithmetic functions are methods on the torch.Tensor object, not attached to the torch module like many other functions (e.g., torch.sin()). As you can see from a.add_(b), the calling tensor is the one that gets changed in place.\n",
    "\n",
    "There is another option for placing the result of a computation in an existing, allocated tensor. Many of the methods and functions we’ve seen so far - including creation methods! - have an out argument that lets you specify a tensor to receive the output. If the out tensor is the correct shape and dtype, this can happen without a new memory allocation:"
   ]
  },
  {
   "cell_type": "code",
   "execution_count": 73,
   "id": "bacaa838",
   "metadata": {},
   "outputs": [
    {
     "name": "stdout",
     "output_type": "stream",
     "text": [
      "tensor([[0., 0.],\n",
      "        [0., 0.]])\n",
      "tensor([[0.0428, 0.1386],\n",
      "        [0.0923, 0.3381]])\n",
      "tensor([[0.2175, 0.3894],\n",
      "        [0.4475, 0.7179]])\n"
     ]
    }
   ],
   "source": [
    "a = torch.rand(2, 2)\n",
    "b = torch.rand(2, 2)\n",
    "c = torch.zeros(2, 2)\n",
    "old_id = id(c)\n",
    "\n",
    "print(c)\n",
    "d = torch.matmul(a, b, out=c)\n",
    "print(c)                # contents of c have changed\n",
    "\n",
    "assert c is d           # test c & d are same object, not just containing equal values\n",
    "assert id(c), old_id    # make sure that our new c is the same object as the old one\n",
    "\n",
    "torch.rand(2, 2, out=c) # works for creation too!\n",
    "print(c)                # c has changed again\n",
    "assert id(c), old_id    # still the same object!"
   ]
  },
  {
   "cell_type": "markdown",
   "id": "2830becc",
   "metadata": {},
   "source": [
    "## 3.5 index\n",
    "* torch.index_select(input, dim, index, out=None)\n",
    "* torch.masked_select(input, mask, out=None)\n",
    "Most binary operations on tensors will return a third, new tensor. When we say c = a * b (where a and b are tensors), the new tensor c will occupy a region of memory distinct from the other tensors.\n"
   ]
  },
  {
   "cell_type": "code",
   "execution_count": 32,
   "id": "33c46311",
   "metadata": {},
   "outputs": [
    {
     "data": {
      "text/plain": [
       "tensor([[ 2.1382,  0.3900, -0.9062,  0.8873],\n",
       "        [-0.7923, -1.5249, -0.1997, -0.0821],\n",
       "        [-1.0587,  0.3344, -0.7804,  0.0804]])"
      ]
     },
     "execution_count": 32,
     "metadata": {},
     "output_type": "execute_result"
    }
   ],
   "source": [
    "tensor = torch.randn((3, 4))\n",
    "tensor"
   ]
  },
  {
   "cell_type": "code",
   "execution_count": 33,
   "id": "e69eff4b",
   "metadata": {},
   "outputs": [
    {
     "data": {
      "text/plain": [
       "tensor([[ 2.1382,  0.3900, -0.9062,  0.8873],\n",
       "        [-1.0587,  0.3344, -0.7804,  0.0804]])"
      ]
     },
     "execution_count": 33,
     "metadata": {},
     "output_type": "execute_result"
    }
   ],
   "source": [
    "indices = torch.tensor([0, 2])\n",
    "torch.index_select(tensor, 0, indices)"
   ]
  },
  {
   "cell_type": "code",
   "execution_count": 34,
   "id": "548f5185",
   "metadata": {},
   "outputs": [
    {
     "data": {
      "text/plain": [
       "tensor([[ True, False, False,  True],\n",
       "        [False, False, False, False],\n",
       "        [False, False, False, False]])"
      ]
     },
     "execution_count": 34,
     "metadata": {},
     "output_type": "execute_result"
    }
   ],
   "source": [
    "mask = tensor.ge(0.5)\n",
    "mask"
   ]
  },
  {
   "cell_type": "code",
   "execution_count": 35,
   "id": "ef38a1dc",
   "metadata": {},
   "outputs": [
    {
     "data": {
      "text/plain": [
       "tensor([2.1382, 0.8873])"
      ]
     },
     "execution_count": 35,
     "metadata": {},
     "output_type": "execute_result"
    }
   ],
   "source": [
    "torch.masked_select(tensor, mask)"
   ]
  },
  {
   "cell_type": "markdown",
   "id": "11c459aa",
   "metadata": {},
   "source": [
    "# 4. More about tensors\n",
    "## 4.1 Tensor Broadcasting"
   ]
  },
  {
   "cell_type": "code",
   "execution_count": 13,
   "id": "8ac06e23",
   "metadata": {},
   "outputs": [
    {
     "name": "stdout",
     "output_type": "stream",
     "text": [
      "tensor([[0.5062, 0.8469, 0.2588, 0.2707],\n",
      "        [0.4115, 0.6839, 0.0703, 0.5105]])\n",
      "tensor([[1.0124, 1.6939, 0.5177, 0.5413],\n",
      "        [0.8230, 1.3677, 0.1405, 1.0210]])\n"
     ]
    }
   ],
   "source": [
    "rand = torch.rand(2, 4)\n",
    "doubled = rand * (torch.ones(1, 4) * 2)\n",
    "\n",
    "print(rand)\n",
    "print(doubled)"
   ]
  },
  {
   "cell_type": "code",
   "execution_count": 13,
   "id": "701ae80e",
   "metadata": {},
   "outputs": [
    {
     "name": "stdout",
     "output_type": "stream",
     "text": [
      "tensor([[0.5062, 0.8469, 0.2588, 0.2707],\n",
      "        [0.4115, 0.6839, 0.0703, 0.5105]])\n",
      "tensor([[1.0124, 1.6939, 0.5177, 0.5413],\n",
      "        [0.8230, 1.3677, 0.1405, 1.0210]])\n"
     ]
    }
   ],
   "source": [
    "rand = torch.rand(2, 4)\n",
    "doubled = rand * (torch.ones(1, 4) * 2)\n",
    "\n",
    "print(rand)\n",
    "print(doubled)"
   ]
  },
  {
   "cell_type": "markdown",
   "id": "f1036c2f",
   "metadata": {},
   "source": [
    "What’s the trick here? How is it we got to multiply a 2x4 tensor by a 1x4 tensor?\n",
    "\n",
    "Broadcasting is a way to perform an operation between tensors that have similarities in their shapes. In the example above, the one-row, four-column tensor is multiplied by both rows of the two-row, four-column tensor.\n",
    "\n",
    "This is an important operation in Deep Learning. The common example is multiplying a tensor of learning weights by a batch of input tensors, applying the operation to each instance in the batch separately, and returning a tensor of identical shape - just like our (2, 4) * (1, 4) example above returned a tensor of shape (2, 4).\n",
    "\n",
    "The rules for broadcasting are:\n",
    "\n",
    "* Each tensor must have at least one dimension - no empty tensors.\n",
    "* Comparing the dimension sizes of the two tensors, going from last to first:\n",
    "  * Each dimension must be equal, or\n",
    "  * One of the dimensions must be of size 1, or\n",
    "  * The dimension does not exist in one of the tensors\n",
    "Tensors of identical shape, of course, are trivially “broadcastable”, as you saw earlier.\n",
    "\n",
    "Here are some examples of situations that honor the above rules and allow broadcasting:\n",
    "\n"
   ]
  },
  {
   "cell_type": "code",
   "execution_count": 17,
   "id": "847bf7b0",
   "metadata": {},
   "outputs": [
    {
     "data": {
      "text/plain": [
       "tensor([[[0.8444, 0.2941],\n",
       "         [0.3788, 0.4567],\n",
       "         [0.0649, 0.6677]],\n",
       "\n",
       "        [[0.8444, 0.2941],\n",
       "         [0.3788, 0.4567],\n",
       "         [0.0649, 0.6677]],\n",
       "\n",
       "        [[0.8444, 0.2941],\n",
       "         [0.3788, 0.4567],\n",
       "         [0.0649, 0.6677]],\n",
       "\n",
       "        [[0.8444, 0.2941],\n",
       "         [0.3788, 0.4567],\n",
       "         [0.0649, 0.6677]]])"
      ]
     },
     "execution_count": 17,
     "metadata": {},
     "output_type": "execute_result"
    }
   ],
   "source": [
    "a = torch.ones(4, 3, 2)\n",
    "a * torch.rand(3, 2) # 3rd & 2nd dims identical to a, dim 1 absent"
   ]
  },
  {
   "cell_type": "code",
   "execution_count": 19,
   "id": "5d6240ca",
   "metadata": {},
   "outputs": [
    {
     "data": {
      "text/plain": [
       "tensor([[[0.4945, 0.4945],\n",
       "         [0.3857, 0.3857],\n",
       "         [0.9883, 0.9883]],\n",
       "\n",
       "        [[0.4945, 0.4945],\n",
       "         [0.3857, 0.3857],\n",
       "         [0.9883, 0.9883]],\n",
       "\n",
       "        [[0.4945, 0.4945],\n",
       "         [0.3857, 0.3857],\n",
       "         [0.9883, 0.9883]],\n",
       "\n",
       "        [[0.4945, 0.4945],\n",
       "         [0.3857, 0.3857],\n",
       "         [0.9883, 0.9883]]])"
      ]
     },
     "execution_count": 19,
     "metadata": {},
     "output_type": "execute_result"
    }
   ],
   "source": [
    "a * torch.rand(3, 1) # 3rd dim = 1, 2nd dim identical to a"
   ]
  },
  {
   "cell_type": "code",
   "execution_count": 20,
   "id": "ba63f198",
   "metadata": {},
   "outputs": [
    {
     "data": {
      "text/plain": [
       "tensor([[[0.4762, 0.7242],\n",
       "         [0.4762, 0.7242],\n",
       "         [0.4762, 0.7242]],\n",
       "\n",
       "        [[0.4762, 0.7242],\n",
       "         [0.4762, 0.7242],\n",
       "         [0.4762, 0.7242]],\n",
       "\n",
       "        [[0.4762, 0.7242],\n",
       "         [0.4762, 0.7242],\n",
       "         [0.4762, 0.7242]],\n",
       "\n",
       "        [[0.4762, 0.7242],\n",
       "         [0.4762, 0.7242],\n",
       "         [0.4762, 0.7242]]])"
      ]
     },
     "execution_count": 20,
     "metadata": {},
     "output_type": "execute_result"
    }
   ],
   "source": [
    "a * torch.rand(1, 2) # 3rd dim identical to a, 2nd dim = 1"
   ]
  },
  {
   "cell_type": "markdown",
   "id": "5f46b850",
   "metadata": {},
   "source": [
    "Look closely at the values of each tensor above:\n",
    "\n",
    "The multiplication operation that created b was broadcast over every “layer” of a.\n",
    "* For c, the operation was broadcast over ever layer and row of a - every 3-element column is identical.\n",
    "* For d, we switched it around - now every row is identical, across layers and columns."
   ]
  },
  {
   "cell_type": "markdown",
   "id": "523e4204",
   "metadata": {},
   "source": [
    "\n",
    "# 4.2 More Math with Tensors\n",
    "PyTorch tensors have over three hundred operations that can be performed on them.\n",
    "\n",
    "Here is a small sample from some of the major categories of operations:"
   ]
  },
  {
   "cell_type": "code",
   "execution_count": 26,
   "id": "07dfa2e2",
   "metadata": {},
   "outputs": [
    {
     "name": "stdout",
     "output_type": "stream",
     "text": [
      "Common functions:\n",
      "tensor([[ 0.3090, -0.1713, -0.8608, -0.0704],\n",
      "        [-0.1018,  0.2531,  0.8823, -0.0156]])\n",
      "tensor([[0.3090, 0.1713, 0.8608, 0.0704],\n",
      "        [0.1018, 0.2531, 0.8823, 0.0156]])\n",
      "tensor([[1., -0., -0., -0.],\n",
      "        [-0., 1., 1., -0.]])\n",
      "tensor([[ 0., -1., -1., -1.],\n",
      "        [-1.,  0.,  0., -1.]])\n",
      "tensor([[ 0.3090, -0.1713, -0.5000, -0.0704],\n",
      "        [-0.1018,  0.2531,  0.5000, -0.0156]])\n"
     ]
    }
   ],
   "source": [
    "import math\n",
    "# common functions\n",
    "a = torch.rand(2, 4) * 2 - 1\n",
    "print('Common functions:')\n",
    "print(a)\n",
    "print(torch.abs(a))\n",
    "print(torch.ceil(a))\n",
    "print(torch.floor(a))\n",
    "print(torch.clamp(a, -0.5, 0.5))"
   ]
  },
  {
   "cell_type": "code",
   "execution_count": 28,
   "id": "3c226846",
   "metadata": {},
   "outputs": [
    {
     "name": "stdout",
     "output_type": "stream",
     "text": [
      "Sine and arcsine:\n",
      "tensor([0.0000, 0.7854, 1.5708, 2.3562])\n",
      "tensor([0.0000, 0.7071, 1.0000, 0.7071])\n",
      "tensor([0.0000, 0.7854, 1.5708, 0.7854])\n"
     ]
    }
   ],
   "source": [
    "# trigonometric functions and their inverses\n",
    "angles = torch.tensor([0, math.pi / 4, math.pi / 2, 3 * math.pi / 4])\n",
    "sines = torch.sin(angles)\n",
    "inverses = torch.asin(sines)\n",
    "print('Sine and arcsine:')\n",
    "print(angles)\n",
    "print(sines)\n",
    "print(inverses)"
   ]
  },
  {
   "cell_type": "code",
   "execution_count": 29,
   "id": "98509855",
   "metadata": {},
   "outputs": [
    {
     "name": "stdout",
     "output_type": "stream",
     "text": [
      "Bitwise XOR:\n",
      "tensor([3, 2, 1])\n"
     ]
    }
   ],
   "source": [
    "# bitwise operations\n",
    "print('Bitwise XOR:')\n",
    "b = torch.tensor([1, 5, 11])\n",
    "c = torch.tensor([2, 7, 10])\n",
    "print(torch.bitwise_xor(b, c))"
   ]
  },
  {
   "cell_type": "code",
   "execution_count": 34,
   "id": "0f0000b1",
   "metadata": {},
   "outputs": [
    {
     "name": "stdout",
     "output_type": "stream",
     "text": [
      "Broadcasted, element-wise equality comparison:\n",
      "tensor([[ True, False],\n",
      "        [False, False]])\n"
     ]
    }
   ],
   "source": [
    "# comparisons:\n",
    "print('Broadcasted, element-wise equality comparison:')\n",
    "d = torch.tensor([[1., 2.], [3., 4.]])\n",
    "e = torch.ones(1, 2)  # many comparison ops support broadcasting!\n",
    "print(torch.eq(d, e)) # returns a tensor of type bool"
   ]
  },
  {
   "cell_type": "code",
   "execution_count": 36,
   "id": "b5aa3b60",
   "metadata": {},
   "outputs": [
    {
     "name": "stdout",
     "output_type": "stream",
     "text": [
      "Reduction ops:\n",
      "tensor(4.)\n",
      "4.0\n",
      "tensor(2.5000)\n",
      "tensor(1.2910)\n",
      "tensor(24.)\n",
      "tensor([1, 2])\n"
     ]
    }
   ],
   "source": [
    "# reductions:\n",
    "print('Reduction ops:')\n",
    "print(torch.max(d))        # returns a single-element tensor\n",
    "print(torch.max(d).item()) # extracts the value from the returned tensor\n",
    "print(torch.mean(d))       # average\n",
    "print(torch.std(d))        # standard deviation\n",
    "print(torch.prod(d))       # product of all numbers\n",
    "print(torch.unique(torch.tensor([1, 2, 1, 2, 1, 2]))) # filter unique elements"
   ]
  },
  {
   "cell_type": "code",
   "execution_count": 37,
   "id": "1254e26e",
   "metadata": {},
   "outputs": [
    {
     "name": "stdout",
     "output_type": "stream",
     "text": [
      "Vectors & Matrices:\n",
      "tensor([ 0.,  0., -1.])\n",
      "tensor([[0.5461, 0.5396],\n",
      "        [0.3053, 0.1973]])\n",
      "tensor([[1.6382, 1.6188],\n",
      "        [0.9160, 0.5919]])\n",
      "torch.return_types.svd(\n",
      "U=tensor([[-0.9060, -0.4232],\n",
      "        [-0.4232,  0.9060]]),\n",
      "S=tensor([2.5402, 0.2020]),\n",
      "V=tensor([[-0.7369,  0.6760],\n",
      "        [-0.6760, -0.7369]]))\n"
     ]
    }
   ],
   "source": [
    "# vector and linear algebra operations\n",
    "v1 = torch.tensor([1., 0., 0.])         # x unit vector\n",
    "v2 = torch.tensor([0., 1., 0.])         # y unit vector\n",
    "m1 = torch.rand(2, 2)                   # random matrix\n",
    "m2 = torch.tensor([[3., 0.], [0., 3.]]) # three times identity matrix\n",
    "\n",
    "print('Vectors & Matrices:')\n",
    "print(torch.cross(v2, v1)) # negative of z unit vector (v1 x v2 == -v2 x v1)\n",
    "print(m1)\n",
    "m3 = torch.matmul(m1, m2)\n",
    "print(m3)                  # 3 times m1\n",
    "print(torch.svd(m3))       # singular value decomposition"
   ]
  },
  {
   "cell_type": "code",
   "execution_count": 39,
   "id": "0a9accdd",
   "metadata": {},
   "outputs": [
    {
     "name": "stdout",
     "output_type": "stream",
     "text": [
      "Before:\n",
      "tensor([[1., 1.],\n",
      "        [1., 1.]])\n",
      "tensor([[0.3285, 0.5655],\n",
      "        [0.0065, 0.7765]])\n",
      "\n",
      "After adding:\n",
      "tensor([[1.3285, 1.5655],\n",
      "        [1.0065, 1.7765]])\n",
      "tensor([[1.3285, 1.5655],\n",
      "        [1.0065, 1.7765]])\n",
      "tensor([[0.3285, 0.5655],\n",
      "        [0.0065, 0.7765]])\n",
      "\n",
      "After multiplying\n",
      "tensor([[1.0794e-01, 3.1982e-01],\n",
      "        [4.2797e-05, 6.0299e-01]])\n",
      "tensor([[1.0794e-01, 3.1982e-01],\n",
      "        [4.2797e-05, 6.0299e-01]])\n"
     ]
    }
   ],
   "source": [
    "a = torch.ones(2, 2)\n",
    "b = torch.rand(2, 2)\n",
    "\n",
    "print('Before:')\n",
    "print(a)\n",
    "print(b)\n",
    "print('\\nAfter adding:')\n",
    "print(a.add_(b))\n",
    "print(a)\n",
    "print(b)\n",
    "print('\\nAfter multiplying')\n",
    "print(b.mul_(b))\n",
    "print(b)"
   ]
  },
  {
   "cell_type": "markdown",
   "id": "652390c7",
   "metadata": {},
   "source": [
    "Note that these in-place arithmetic functions are methods on the torch.Tensor object, not attached to the torch module like many other functions (e.g., torch.sin()). As you can see from a.add_(b), the calling tensor is the one that gets changed in place.\n",
    "\n",
    "There is another option for placing the result of a computation in an existing, allocated tensor. Many of the methods and functions we’ve seen so far - including creation methods! - have an out argument that lets you specify a tensor to receive the output. If the out tensor is the correct shape and dtype, this can happen without a new memory allocation:"
   ]
  },
  {
   "cell_type": "code",
   "execution_count": 40,
   "id": "87715abb",
   "metadata": {},
   "outputs": [
    {
     "name": "stdout",
     "output_type": "stream",
     "text": [
      "tensor([[0., 0.],\n",
      "        [0., 0.]])\n",
      "tensor([[0.5991, 0.7677],\n",
      "        [0.8968, 1.2237]])\n",
      "tensor([[0.4704, 0.6077],\n",
      "        [0.4757, 0.5874]])\n"
     ]
    }
   ],
   "source": [
    "a = torch.rand(2, 2)\n",
    "b = torch.rand(2, 2)\n",
    "c = torch.zeros(2, 2)\n",
    "old_id = id(c)\n",
    "\n",
    "print(c)\n",
    "d = torch.matmul(a, b, out=c)\n",
    "print(c)                # contents of c have changed\n",
    "\n",
    "assert c is d           # test c & d are same object, not just containing equal values\n",
    "assert id(c), old_id    # make sure that our new c is the same object as the old one\n",
    "\n",
    "torch.rand(2, 2, out=c) # works for creation too!\n",
    "print(c)                # c has changed again\n",
    "assert id(c), old_id    # still the same object!"
   ]
  },
  {
   "cell_type": "markdown",
   "id": "c1dee561",
   "metadata": {},
   "source": [
    "## 4.3 Copying Tensors\n",
    "As with any object in Python, assigning a tensor to a variable makes the variable a label of the tensor, and does not copy it. For example:"
   ]
  },
  {
   "cell_type": "code",
   "execution_count": 41,
   "id": "d0d0f87f",
   "metadata": {},
   "outputs": [
    {
     "name": "stdout",
     "output_type": "stream",
     "text": [
      "tensor([[  1., 561.],\n",
      "        [  1.,   1.]])\n"
     ]
    }
   ],
   "source": [
    "a = torch.ones(2, 2)\n",
    "b = a\n",
    "\n",
    "a[0][1] = 561  # we change a...\n",
    "print(b)       # ...and b is also altered"
   ]
  },
  {
   "cell_type": "markdown",
   "id": "632ccad3",
   "metadata": {},
   "source": [
    "But what if you want a separate copy of the data to work on? The clone() method is there for you:"
   ]
  },
  {
   "cell_type": "code",
   "execution_count": 42,
   "id": "e85df8b4",
   "metadata": {},
   "outputs": [
    {
     "name": "stdout",
     "output_type": "stream",
     "text": [
      "tensor([[True, True],\n",
      "        [True, True]])\n",
      "tensor([[1., 1.],\n",
      "        [1., 1.]])\n"
     ]
    }
   ],
   "source": [
    "a = torch.ones(2, 2)\n",
    "b = a.clone()\n",
    "\n",
    "assert b is not a      # different objects in memory...\n",
    "print(torch.eq(a, b))  # ...but still with the same contents!\n",
    "\n",
    "a[0][1] = 561          # a changes...\n",
    "print(b)               # ...but b is still all ones"
   ]
  },
  {
   "cell_type": "markdown",
   "id": "2f1ceaa0",
   "metadata": {},
   "source": [
    "There is an important thing to be aware of when using ``clone()``. If your source tensor has autograd, enabled then so will the clone.\n",
    "\n",
    "In many cases, this will be what you want. For example, if your model has multiple computation paths in its forward() method, and both the original tensor and its clone contribute to the model’s output, then to enable model learning you want autograd turned on for both tensors. If your source tensor has autograd enabled (which it generally will if it’s a set of learning weights or derived from a computation involving the weights), then you’ll get the result you want.\n",
    "\n",
    "On the other hand, if you’re doing a computation where neither the original tensor nor its clone need to track gradients, then as long as the source tensor has autograd turned off, you’re good to go.\n",
    "\n",
    "There is a third case, though: Imagine you’re performing a computation in your model’s forward() function, where gradients are turned on for everything by default, but you want to pull out some values mid-stream to generate some metrics. In this case, you don’t want the cloned copy of your source tensor to track gradients - performance is improved with autograd’s history tracking turned off. For this, you can use the .detach() method on the source tensor:"
   ]
  },
  {
   "cell_type": "code",
   "execution_count": 43,
   "id": "3543a8c1",
   "metadata": {},
   "outputs": [
    {
     "name": "stdout",
     "output_type": "stream",
     "text": [
      "tensor([[0.4363, 0.6339],\n",
      "        [0.3208, 0.4323]], requires_grad=True)\n",
      "tensor([[0.4363, 0.6339],\n",
      "        [0.3208, 0.4323]], grad_fn=<CloneBackward>)\n",
      "tensor([[0.4363, 0.6339],\n",
      "        [0.3208, 0.4323]])\n",
      "tensor([[0.4363, 0.6339],\n",
      "        [0.3208, 0.4323]], requires_grad=True)\n"
     ]
    }
   ],
   "source": [
    "a = torch.rand(2, 2, requires_grad=True) # turn on autograd\n",
    "print(a)\n",
    "\n",
    "b = a.clone()\n",
    "print(b)\n",
    "\n",
    "c = a.detach().clone()\n",
    "print(c)\n",
    "\n",
    "print(a)"
   ]
  },
  {
   "cell_type": "markdown",
   "id": "a23e726b",
   "metadata": {},
   "source": [
    "* We create a with requires_grad=True turned on. We haven’t covered this optional argument yet, but will during the unit on autograd.\n",
    "* When we print a, it informs us that the property requires_grad=True - this means that autograd and computation history tracking are turned on.\n",
    "* We clone a and label it b. When we print b, we can see that it’s tracking its computation history - it has inherited a’s autograd settings, and added to the computation history.\n",
    "* We clone a into c, but we call detach() first.\n",
    "* Printing c, we see no computation history, and no requires_grad=True.\n",
    "The detach() method detaches the tensor from its computation history. It says, “do whatever comes next as if autograd was off.” It does this without changing a - you can see that when we print a again at the end, it retains its requires_grad=True property.\n",
    "\n",
    "# 5. Moving to GPU\n",
    "One of the major advantages of PyTorch is its robust acceleration on CUDA-compatible Nvidia GPUs. (“CUDA” stands for Compute Unified Device Architecture, which is Nvidia’s platform for parallel computing.) So far, everything we’ve done has been on CPU. How do we move to the faster hardware?\n",
    "\n",
    "First, we should check whether a GPU is available, with the is_available() method."
   ]
  },
  {
   "cell_type": "code",
   "execution_count": 63,
   "id": "21df3559",
   "metadata": {},
   "outputs": [
    {
     "name": "stdout",
     "output_type": "stream",
     "text": [
      "Sorry, CPU only.\n"
     ]
    }
   ],
   "source": [
    "if torch.cuda.is_available():\n",
    "    print('We have a GPU!')\n",
    "else:\n",
    "    print('Sorry, CPU only.')"
   ]
  },
  {
   "cell_type": "markdown",
   "id": "3d5ed5e4",
   "metadata": {},
   "source": [
    "Once we’ve determined that one or more GPUs is available, we need to put our data someplace where the GPU can see it. Your CPU does computation on data in your computer’s RAM. Your GPU has dedicated memory attached to it. Whenever you want to perform a computation on a device, you must move all the data needed for that computation to memory accessible by that device. (Colloquially, “moving the data to memory accessible by the GPU” is shorted to, “moving the data to the GPU”.)\n",
    "\n",
    "There are multiple ways to get your data onto your target device. You may do it at creation time:"
   ]
  },
  {
   "cell_type": "code",
   "execution_count": 45,
   "id": "d3da0969",
   "metadata": {},
   "outputs": [
    {
     "name": "stdout",
     "output_type": "stream",
     "text": [
      "Sorry, CPU only.\n"
     ]
    }
   ],
   "source": [
    "if torch.cuda.is_available():\n",
    "    gpu_rand = torch.rand(2, 2, device='cuda')\n",
    "    print(gpu_rand)\n",
    "else:\n",
    "    print('Sorry, CPU only.')"
   ]
  },
  {
   "cell_type": "markdown",
   "id": "a1563fe1",
   "metadata": {},
   "source": [
    "By default, new tensors are created on the CPU, so we have to specify when we want to create our tensor on the GPU with the optional device argument. You can see when we print the new tensor, PyTorch informs us which device it’s on (if it’s not on CPU).\n",
    "\n",
    "You can query the number of GPUs with torch.cuda.device_count(). If you have more than one GPU, you can specify them by index: device='cuda:0', device='cuda:1', etc.\n",
    "\n",
    "As a coding practice, specifying our devices everywhere with string constants is pretty fragile. In an ideal world, your code would perform robustly whether you’re on CPU or GPU hardware. You can do this by creating a device handle that can be passed to your tensors instead of a string:"
   ]
  },
  {
   "cell_type": "code",
   "execution_count": 46,
   "id": "fde6616c",
   "metadata": {},
   "outputs": [
    {
     "name": "stdout",
     "output_type": "stream",
     "text": [
      "Device: cpu\n",
      "tensor([[0.1811, 0.6962],\n",
      "        [0.8073, 0.2125]])\n"
     ]
    }
   ],
   "source": [
    "if torch.cuda.is_available():\n",
    "    my_device = torch.device('cuda')\n",
    "else:\n",
    "    my_device = torch.device('cpu')\n",
    "print('Device: {}'.format(my_device))\n",
    "\n",
    "x = torch.rand(2, 2, device=my_device)\n",
    "print(x)"
   ]
  },
  {
   "cell_type": "markdown",
   "id": "2a0b8c36",
   "metadata": {},
   "source": [
    "If you have an existing tensor living on one device, you can move it to another with the to() method. The following line of code creates a tensor on CPU, and moves it to whichever device handle you acquired in the previous cell."
   ]
  },
  {
   "cell_type": "code",
   "execution_count": 47,
   "id": "c47d5954",
   "metadata": {},
   "outputs": [],
   "source": [
    "y = torch.rand(2, 2)\n",
    "y = y.to(my_device)"
   ]
  },
  {
   "cell_type": "markdown",
   "id": "75b8cd62",
   "metadata": {},
   "source": [
    "It is important to know that in order to do computation involving two or more tensors, all of the tensors must be on the same device. The following code will throw a runtime error, regardless of whether you have a GPU device available:"
   ]
  },
  {
   "cell_type": "code",
   "execution_count": 48,
   "id": "a242991a",
   "metadata": {},
   "outputs": [
    {
     "ename": "RuntimeError",
     "evalue": "Expected one of cpu, cuda, xpu, mkldnn, opengl, opencl, ideep, hip, msnpu, mlc, xla, vulkan, meta, hpu device type at start of device string: gpu",
     "output_type": "error",
     "traceback": [
      "\u001b[0;31m---------------------------------------------------------------------------\u001b[0m",
      "\u001b[0;31mRuntimeError\u001b[0m                              Traceback (most recent call last)",
      "\u001b[0;32m/var/folders/bw/0ysxvxj95kvg94vzv34y4s240000gn/T/ipykernel_8495/1141838843.py\u001b[0m in \u001b[0;36m<module>\u001b[0;34m\u001b[0m\n\u001b[1;32m      1\u001b[0m \u001b[0mx\u001b[0m \u001b[0;34m=\u001b[0m \u001b[0mtorch\u001b[0m\u001b[0;34m.\u001b[0m\u001b[0mrand\u001b[0m\u001b[0;34m(\u001b[0m\u001b[0;36m2\u001b[0m\u001b[0;34m,\u001b[0m \u001b[0;36m2\u001b[0m\u001b[0;34m)\u001b[0m\u001b[0;34m\u001b[0m\u001b[0;34m\u001b[0m\u001b[0m\n\u001b[0;32m----> 2\u001b[0;31m \u001b[0my\u001b[0m \u001b[0;34m=\u001b[0m \u001b[0mtorch\u001b[0m\u001b[0;34m.\u001b[0m\u001b[0mrand\u001b[0m\u001b[0;34m(\u001b[0m\u001b[0;36m2\u001b[0m\u001b[0;34m,\u001b[0m \u001b[0;36m2\u001b[0m\u001b[0;34m,\u001b[0m \u001b[0mdevice\u001b[0m\u001b[0;34m=\u001b[0m\u001b[0;34m'gpu'\u001b[0m\u001b[0;34m)\u001b[0m\u001b[0;34m\u001b[0m\u001b[0;34m\u001b[0m\u001b[0m\n\u001b[0m\u001b[1;32m      3\u001b[0m \u001b[0mz\u001b[0m \u001b[0;34m=\u001b[0m \u001b[0mx\u001b[0m \u001b[0;34m+\u001b[0m \u001b[0my\u001b[0m  \u001b[0;31m# exception will be thrown\u001b[0m\u001b[0;34m\u001b[0m\u001b[0;34m\u001b[0m\u001b[0m\n",
      "\u001b[0;31mRuntimeError\u001b[0m: Expected one of cpu, cuda, xpu, mkldnn, opengl, opencl, ideep, hip, msnpu, mlc, xla, vulkan, meta, hpu device type at start of device string: gpu"
     ]
    }
   ],
   "source": [
    "x = torch.rand(2, 2)\n",
    "y = torch.rand(2, 2, device='gpu')\n",
    "z = x + y  # exception will be thrown"
   ]
  }
 ],
 "metadata": {
  "kernelspec": {
   "display_name": "Python 3 (ipykernel)",
   "language": "python",
   "name": "python3"
  },
  "language_info": {
   "codemirror_mode": {
    "name": "ipython",
    "version": 3
   },
   "file_extension": ".py",
   "mimetype": "text/x-python",
   "name": "python",
   "nbconvert_exporter": "python",
   "pygments_lexer": "ipython3",
   "version": "3.9.6"
  }
 },
 "nbformat": 4,
 "nbformat_minor": 5
}
