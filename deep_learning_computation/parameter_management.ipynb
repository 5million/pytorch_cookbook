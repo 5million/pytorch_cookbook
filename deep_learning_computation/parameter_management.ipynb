{
 "cells": [
  {
   "cell_type": "code",
   "execution_count": 2,
   "id": "bf418e8f",
   "metadata": {},
   "outputs": [],
   "source": [
    "import torch\n",
    "from torch import nn"
   ]
  },
  {
   "cell_type": "markdown",
   "id": "32f9815b",
   "metadata": {},
   "source": [
    "## Paramter Access"
   ]
  },
  {
   "cell_type": "code",
   "execution_count": 28,
   "id": "f247e9ca",
   "metadata": {},
   "outputs": [
    {
     "data": {
      "text/plain": [
       "tensor([[-0.2407],\n",
       "        [-0.2337]], grad_fn=<AddmmBackward>)"
      ]
     },
     "execution_count": 28,
     "metadata": {},
     "output_type": "execute_result"
    }
   ],
   "source": [
    "net = nn.Sequential(nn.Linear(4, 8), nn.ReLU(), nn.Linear(8, 1))\n",
    "X = torch.rand(2, 4)\n",
    "net(X)"
   ]
  },
  {
   "cell_type": "code",
   "execution_count": 29,
   "id": "74ac9b5b",
   "metadata": {},
   "outputs": [
    {
     "data": {
      "text/plain": [
       "OrderedDict([('0.weight',\n",
       "              tensor([[-0.3783,  0.0534,  0.2602, -0.3800],\n",
       "                      [-0.2251,  0.1473, -0.0224,  0.0828],\n",
       "                      [ 0.0029, -0.2816,  0.3262, -0.1190],\n",
       "                      [-0.2502,  0.4433, -0.0049, -0.2059],\n",
       "                      [-0.0929,  0.1371,  0.4339,  0.4236],\n",
       "                      [ 0.4728,  0.4933, -0.4876,  0.4186],\n",
       "                      [ 0.1065, -0.0477,  0.3502, -0.0773],\n",
       "                      [-0.0096,  0.2285,  0.0847, -0.3798]])),\n",
       "             ('0.bias',\n",
       "              tensor([-0.2840,  0.4161, -0.1825, -0.1258, -0.4711, -0.2630, -0.1046,  0.2474])),\n",
       "             ('2.weight',\n",
       "              tensor([[ 0.2772,  0.1899, -0.0207, -0.0636, -0.3061, -0.3089,  0.1627, -0.1445]])),\n",
       "             ('2.bias', tensor([-0.1092]))])"
      ]
     },
     "execution_count": 29,
     "metadata": {},
     "output_type": "execute_result"
    }
   ],
   "source": [
    "net.state_dict()"
   ]
  },
  {
   "cell_type": "code",
   "execution_count": 19,
   "id": "2dedbfc1",
   "metadata": {},
   "outputs": [
    {
     "data": {
      "text/plain": [
       "tensor([0.1841])"
      ]
     },
     "execution_count": 19,
     "metadata": {},
     "output_type": "execute_result"
    }
   ],
   "source": [
    "net.state_dict()['2.bias']"
   ]
  },
  {
   "cell_type": "code",
   "execution_count": 8,
   "id": "44928191",
   "metadata": {},
   "outputs": [
    {
     "data": {
      "text/plain": [
       "Parameter containing:\n",
       "tensor([-2.5392e-04, -2.9262e-01,  2.5721e-01,  2.1194e-01,  3.2232e-01,\n",
       "        -2.4069e-01, -2.4105e-01, -4.0320e-01], requires_grad=True)"
      ]
     },
     "execution_count": 8,
     "metadata": {},
     "output_type": "execute_result"
    }
   ],
   "source": [
    "net[0].bias"
   ]
  },
  {
   "cell_type": "code",
   "execution_count": 9,
   "id": "4c03120b",
   "metadata": {},
   "outputs": [
    {
     "data": {
      "text/plain": [
       "tensor([-2.5392e-04, -2.9262e-01,  2.5721e-01,  2.1194e-01,  3.2232e-01,\n",
       "        -2.4069e-01, -2.4105e-01, -4.0320e-01])"
      ]
     },
     "execution_count": 9,
     "metadata": {},
     "output_type": "execute_result"
    }
   ],
   "source": [
    "net[0].bias.data"
   ]
  },
  {
   "cell_type": "code",
   "execution_count": 17,
   "id": "af15b1b5",
   "metadata": {},
   "outputs": [
    {
     "data": {
      "text/plain": [
       "[('weight',\n",
       "  Parameter containing:\n",
       "  tensor([[-0.3433,  0.0202, -0.3418, -0.2295],\n",
       "          [ 0.1200, -0.3384,  0.0058,  0.1859],\n",
       "          [-0.1170,  0.0241, -0.3259,  0.1644],\n",
       "          [-0.2734,  0.0632,  0.1411,  0.3852],\n",
       "          [ 0.3043,  0.2815, -0.3508, -0.0904],\n",
       "          [-0.1149,  0.1635, -0.3232,  0.0445],\n",
       "          [-0.3872, -0.0919,  0.2099, -0.1558],\n",
       "          [ 0.4808, -0.4080,  0.2552,  0.4576]], requires_grad=True)),\n",
       " ('bias',\n",
       "  Parameter containing:\n",
       "  tensor([-2.5392e-04, -2.9262e-01,  2.5721e-01,  2.1194e-01,  3.2232e-01,\n",
       "          -2.4069e-01, -2.4105e-01, -4.0320e-01], requires_grad=True))]"
      ]
     },
     "execution_count": 17,
     "metadata": {},
     "output_type": "execute_result"
    }
   ],
   "source": [
    "[(name, shape) for name, shape in net[0].named_parameters()]"
   ]
  },
  {
   "cell_type": "code",
   "execution_count": 21,
   "id": "36158ce4",
   "metadata": {},
   "outputs": [
    {
     "data": {
      "text/plain": [
       "tensor([[-0.0120],\n",
       "        [-0.0120]], grad_fn=<AddmmBackward>)"
      ]
     },
     "execution_count": 21,
     "metadata": {},
     "output_type": "execute_result"
    }
   ],
   "source": [
    "def block1():\n",
    "    return nn.Sequential(nn.Linear(4, 8), nn.ReLU(),\n",
    "                         nn.Linear(8, 4), nn.ReLU())\n",
    "\n",
    "def block2():\n",
    "    net = nn.Sequential()\n",
    "    for i in range(4):\n",
    "        net.add_module(f'block{i}', block1())\n",
    "    return net\n",
    "\n",
    "rgnet = nn.Sequential(block2(), nn.Linear(4, 1))\n",
    "rgnet(X)"
   ]
  },
  {
   "cell_type": "code",
   "execution_count": 22,
   "id": "627ceb1c",
   "metadata": {},
   "outputs": [
    {
     "data": {
      "text/plain": [
       "Sequential(\n",
       "  (0): Sequential(\n",
       "    (block0): Sequential(\n",
       "      (0): Linear(in_features=4, out_features=8, bias=True)\n",
       "      (1): ReLU()\n",
       "      (2): Linear(in_features=8, out_features=4, bias=True)\n",
       "      (3): ReLU()\n",
       "    )\n",
       "    (block1): Sequential(\n",
       "      (0): Linear(in_features=4, out_features=8, bias=True)\n",
       "      (1): ReLU()\n",
       "      (2): Linear(in_features=8, out_features=4, bias=True)\n",
       "      (3): ReLU()\n",
       "    )\n",
       "    (block2): Sequential(\n",
       "      (0): Linear(in_features=4, out_features=8, bias=True)\n",
       "      (1): ReLU()\n",
       "      (2): Linear(in_features=8, out_features=4, bias=True)\n",
       "      (3): ReLU()\n",
       "    )\n",
       "    (block3): Sequential(\n",
       "      (0): Linear(in_features=4, out_features=8, bias=True)\n",
       "      (1): ReLU()\n",
       "      (2): Linear(in_features=8, out_features=4, bias=True)\n",
       "      (3): ReLU()\n",
       "    )\n",
       "  )\n",
       "  (1): Linear(in_features=4, out_features=1, bias=True)\n",
       ")"
      ]
     },
     "execution_count": 22,
     "metadata": {},
     "output_type": "execute_result"
    }
   ],
   "source": [
    "c"
   ]
  },
  {
   "cell_type": "code",
   "execution_count": 24,
   "id": "fa918ccf",
   "metadata": {},
   "outputs": [
    {
     "data": {
      "text/plain": [
       "Parameter containing:\n",
       "tensor([[-0.0143, -0.4007,  0.2067,  0.4617],\n",
       "        [-0.4873,  0.2232,  0.0149, -0.3594],\n",
       "        [-0.2251,  0.1923,  0.1594, -0.2119],\n",
       "        [ 0.0498,  0.4915,  0.2653,  0.4278],\n",
       "        [-0.4776, -0.3709,  0.1616, -0.4788],\n",
       "        [-0.3821,  0.0762,  0.0218,  0.2594],\n",
       "        [ 0.2349, -0.0803,  0.0652,  0.0164],\n",
       "        [ 0.4105,  0.2508, -0.3046,  0.2152]], requires_grad=True)"
      ]
     },
     "execution_count": 24,
     "metadata": {},
     "output_type": "execute_result"
    }
   ],
   "source": [
    "rgnet[0][1][0].weight"
   ]
  },
  {
   "cell_type": "markdown",
   "id": "47a2e588",
   "metadata": {},
   "source": [
    "## Parameter Initialization"
   ]
  },
  {
   "cell_type": "code",
   "execution_count": 30,
   "id": "af0a9d33",
   "metadata": {},
   "outputs": [
    {
     "data": {
      "text/plain": [
       "(tensor([[-0.0181,  0.0049,  0.0037,  0.0082],\n",
       "         [-0.0065, -0.0117, -0.0130,  0.0044],\n",
       "         [-0.0001,  0.0115, -0.0136, -0.0084],\n",
       "         [-0.0073,  0.0003,  0.0185,  0.0156],\n",
       "         [ 0.0070, -0.0058, -0.0128,  0.0003],\n",
       "         [ 0.0119, -0.0112, -0.0067,  0.0014],\n",
       "         [-0.0056, -0.0131,  0.0115, -0.0069],\n",
       "         [-0.0022, -0.0157,  0.0049, -0.0038]]),\n",
       " tensor([0., 0., 0., 0., 0., 0., 0., 0.]))"
      ]
     },
     "execution_count": 30,
     "metadata": {},
     "output_type": "execute_result"
    }
   ],
   "source": [
    "def init_normal(m):\n",
    "    if type(m) == nn.Linear:\n",
    "        nn.init.normal_(m.weight, mean=0, std=0.01)\n",
    "        nn.init.zeros_(m.bias)\n",
    "net.apply(init_normal)\n",
    "net[0].weight.data, net[0].bias.data"
   ]
  },
  {
   "cell_type": "code",
   "execution_count": 35,
   "id": "1c8a0c14",
   "metadata": {},
   "outputs": [
    {
     "data": {
      "text/plain": [
       "(tensor([[2., 2., 2., 2.],\n",
       "         [2., 2., 2., 2.],\n",
       "         [2., 2., 2., 2.],\n",
       "         [2., 2., 2., 2.],\n",
       "         [2., 2., 2., 2.],\n",
       "         [2., 2., 2., 2.],\n",
       "         [2., 2., 2., 2.],\n",
       "         [2., 2., 2., 2.]]),\n",
       " tensor([0., 0., 0., 0., 0., 0., 0., 0.]))"
      ]
     },
     "execution_count": 35,
     "metadata": {},
     "output_type": "execute_result"
    }
   ],
   "source": [
    "def init_constant(m):\n",
    "    if type(m) == nn.Linear:\n",
    "        nn.init.constant_(m.weight, 2)\n",
    "        nn.init.zeros_(m.bias)\n",
    "net.apply(init_constant)\n",
    "net[0].weight.data, net[0].bias.data"
   ]
  },
  {
   "cell_type": "code",
   "execution_count": 37,
   "id": "59882e73",
   "metadata": {},
   "outputs": [
    {
     "data": {
      "text/plain": [
       "(tensor([[-0.3953,  0.5425,  0.4089,  0.0133,  0.5771,  0.1212,  0.6860,  0.3200]]),\n",
       " tensor([0.]))"
      ]
     },
     "execution_count": 37,
     "metadata": {},
     "output_type": "execute_result"
    }
   ],
   "source": [
    "def xavier(m):\n",
    "    if type(m) == nn.Linear:\n",
    "        nn.init.xavier_uniform_(m.weight)\n",
    "net[2].apply(xavier)\n",
    "net[2].weight.data, net[2].bias.data"
   ]
  },
  {
   "cell_type": "code",
   "execution_count": 61,
   "id": "af653850",
   "metadata": {},
   "outputs": [
    {
     "data": {
      "text/plain": [
       "Parameter containing:\n",
       "tensor([[-0.0000,  5.8434, -8.6593,  0.0000],\n",
       "        [ 5.7975,  6.0066,  6.9793,  9.2941],\n",
       "        [ 5.7919, -5.8185, -9.5599,  0.0000],\n",
       "        [-8.5591, -0.0000, -7.4196, -8.0596],\n",
       "        [ 5.5867,  0.0000,  6.8820, -0.0000],\n",
       "        [-5.7885, -9.2129, -0.0000, -6.3376],\n",
       "        [-0.0000,  0.0000, -6.8207,  5.7054],\n",
       "        [ 0.0000, -0.0000,  0.0000,  0.0000]], requires_grad=True)"
      ]
     },
     "execution_count": 61,
     "metadata": {},
     "output_type": "execute_result"
    }
   ],
   "source": [
    "def my_init(m):\n",
    "    if type(m) == nn.Linear:\n",
    "        nn.init.uniform_(m.weight, -10, 10)\n",
    "        m.weight.data *= m.weight.data.abs() >= 5\n",
    "net.apply(my_init)\n",
    "net[0].weight\n"
   ]
  },
  {
   "cell_type": "code",
   "execution_count": 62,
   "id": "9dd286a9",
   "metadata": {},
   "outputs": [
    {
     "data": {
      "text/plain": [
       "tensor([[1., 1., 1., 1.],\n",
       "        [1., 1., 1., 1.],\n",
       "        [1., 1., 1., 1.],\n",
       "        [1., 1., 1., 1.],\n",
       "        [1., 1., 1., 1.],\n",
       "        [1., 1., 1., 1.],\n",
       "        [1., 1., 1., 1.],\n",
       "        [1., 1., 1., 1.]])"
      ]
     },
     "execution_count": 62,
     "metadata": {},
     "output_type": "execute_result"
    }
   ],
   "source": [
    "net[0].weight.data[:] = 1\n",
    "net[0].weight.data"
   ]
  },
  {
   "cell_type": "code",
   "execution_count": 64,
   "id": "4b10a284",
   "metadata": {},
   "outputs": [
    {
     "data": {
      "text/plain": [
       "tensor([[42.,  1.,  1.,  1.],\n",
       "        [ 1.,  1.,  1.,  1.],\n",
       "        [ 1.,  1.,  1.,  1.],\n",
       "        [ 1.,  1.,  1.,  1.],\n",
       "        [ 1.,  1.,  1.,  1.],\n",
       "        [ 1.,  1.,  1.,  1.],\n",
       "        [ 1.,  1.,  1.,  1.],\n",
       "        [ 1.,  1.,  1.,  1.]])"
      ]
     },
     "execution_count": 64,
     "metadata": {},
     "output_type": "execute_result"
    }
   ],
   "source": [
    "net[0].weight.data[0, 0] = 42\n",
    "net[0].weight.data"
   ]
  },
  {
   "cell_type": "markdown",
   "id": "7c3ee882",
   "metadata": {},
   "source": [
    "## Tied Parameters"
   ]
  },
  {
   "cell_type": "code",
   "execution_count": 74,
   "id": "b25c9486",
   "metadata": {},
   "outputs": [
    {
     "data": {
      "text/plain": [
       "tensor([[0.1246],\n",
       "        [0.1178]], grad_fn=<AddmmBackward>)"
      ]
     },
     "execution_count": 74,
     "metadata": {},
     "output_type": "execute_result"
    }
   ],
   "source": [
    "shared = nn.Linear(8, 8)\n",
    "net = nn.Sequential(nn.Linear(4, 8), nn.ReLU(),\n",
    "                    shared, nn.ReLU(),\n",
    "                    shared, nn.ReLU(),\n",
    "                    nn.Linear(8, 1))\n",
    "net(X)"
   ]
  },
  {
   "cell_type": "code",
   "execution_count": 75,
   "id": "7be68f9a",
   "metadata": {},
   "outputs": [
    {
     "data": {
      "text/plain": [
       "tensor([[True, True, True, True, True, True, True, True],\n",
       "        [True, True, True, True, True, True, True, True],\n",
       "        [True, True, True, True, True, True, True, True],\n",
       "        [True, True, True, True, True, True, True, True],\n",
       "        [True, True, True, True, True, True, True, True],\n",
       "        [True, True, True, True, True, True, True, True],\n",
       "        [True, True, True, True, True, True, True, True],\n",
       "        [True, True, True, True, True, True, True, True]])"
      ]
     },
     "execution_count": 75,
     "metadata": {},
     "output_type": "execute_result"
    }
   ],
   "source": [
    "net[2].weight.data == net[4].weight.data"
   ]
  },
  {
   "cell_type": "code",
   "execution_count": null,
   "id": "bf952ca5",
   "metadata": {},
   "outputs": [],
   "source": []
  }
 ],
 "metadata": {
  "kernelspec": {
   "display_name": "Python 3 (ipykernel)",
   "language": "python",
   "name": "python3"
  },
  "language_info": {
   "codemirror_mode": {
    "name": "ipython",
    "version": 3
   },
   "file_extension": ".py",
   "mimetype": "text/x-python",
   "name": "python",
   "nbconvert_exporter": "python",
   "pygments_lexer": "ipython3",
   "version": "3.9.6"
  }
 },
 "nbformat": 4,
 "nbformat_minor": 5
}
