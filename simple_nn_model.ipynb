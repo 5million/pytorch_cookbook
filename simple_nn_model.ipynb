{
 "cells": [
  {
   "cell_type": "code",
   "execution_count": 2,
   "id": "b6f0d101",
   "metadata": {},
   "outputs": [
    {
     "data": {
      "text/plain": [
       "<torch._C.Generator at 0x7fd124552090>"
      ]
     },
     "execution_count": 2,
     "metadata": {},
     "output_type": "execute_result"
    }
   ],
   "source": [
    "import torch\n",
    "from torch import nn\n",
    "torch.manual_seed(7)"
   ]
  },
  {
   "cell_type": "code",
   "execution_count": 6,
   "id": "cd08f04a",
   "metadata": {},
   "outputs": [
    {
     "data": {
      "text/plain": [
       "tensor([[[0.2019, 0.7259],\n",
       "         [0.4731, 0.0444]],\n",
       "\n",
       "        [[0.1539, 0.1956],\n",
       "         [0.8861, 0.7264]],\n",
       "\n",
       "        [[0.8868, 0.1278],\n",
       "         [0.0125, 0.1721]],\n",
       "\n",
       "        [[0.5535, 0.4012],\n",
       "         [0.1849, 0.8640]],\n",
       "\n",
       "        [[0.3388, 0.2108],\n",
       "         [0.7310, 0.3653]],\n",
       "\n",
       "        [[0.8188, 0.6192],\n",
       "         [0.5123, 0.6050]],\n",
       "\n",
       "        [[0.1243, 0.2325],\n",
       "         [0.2650, 0.2171]]])"
      ]
     },
     "execution_count": 6,
     "metadata": {},
     "output_type": "execute_result"
    }
   ],
   "source": [
    "X = torch.rand((7, 2, 2))\n",
    "X"
   ]
  },
  {
   "cell_type": "code",
   "execution_count": 7,
   "id": "333aa31f",
   "metadata": {},
   "outputs": [
    {
     "data": {
      "text/plain": [
       "tensor([0, 0, 0, 1, 0, 1, 1])"
      ]
     },
     "execution_count": 7,
     "metadata": {},
     "output_type": "execute_result"
    }
   ],
   "source": [
    "target = torch.randint(0, 2, (7,))\n",
    "target"
   ]
  },
  {
   "cell_type": "code",
   "execution_count": 51,
   "id": "7242f713",
   "metadata": {},
   "outputs": [],
   "source": [
    "class LinearNet(nn.Module):\n",
    "    def __init__(self):\n",
    "        super(LinearNet, self).__init__()\n",
    "        # fully connected layer\n",
    "        self.dense = nn.Linear(4, 3)\n",
    "        # softmax layer\n",
    "        self.softmax = nn.Softmax(dim=1)\n",
    "        \n",
    "    def forward(self, x):\n",
    "        y = self.dense(x.view((-1, 4)))\n",
    "        y = self.softmax(y)\n",
    "        return y\n",
    "    \n",
    "net = LinearNet()"
   ]
  },
  {
   "cell_type": "code",
   "execution_count": 52,
   "id": "d957a4f3",
   "metadata": {},
   "outputs": [],
   "source": [
    "# torch.nn.CrossEntropyLoss(weight=None, size_average=None, ignore_index=-100, reduce=None, reduction='mean')\n",
    "loss = nn.CrossEntropyLoss()"
   ]
  },
  {
   "cell_type": "code",
   "execution_count": 53,
   "id": "dc08432b",
   "metadata": {},
   "outputs": [],
   "source": [
    "# torch.optim.SGD(params, lr=, momentum=0, dampening=0, weight_decay=0, nesterov=False)\n",
    "optimizer = torch.optim.SGD(net.parameters(), lr=0.1)"
   ]
  },
  {
   "cell_type": "code",
   "execution_count": 54,
   "id": "1790eb61",
   "metadata": {},
   "outputs": [
    {
     "name": "stdout",
     "output_type": "stream",
     "text": [
      "epoch: 1, loss: 1.1197158098220825\n",
      "epoch: 2, loss: 1.1156806945800781\n",
      "epoch: 3, loss: 1.111761212348938\n",
      "epoch: 4, loss: 1.1079554557800293\n",
      "epoch: 5, loss: 1.1042613983154297\n",
      "epoch: 6, loss: 1.1006766557693481\n",
      "epoch: 7, loss: 1.0971990823745728\n",
      "epoch: 8, loss: 1.0938256978988647\n",
      "epoch: 9, loss: 1.0905539989471436\n",
      "epoch: 10, loss: 1.0873814821243286\n",
      "epoch: 11, loss: 1.084304928779602\n",
      "epoch: 12, loss: 1.0813219547271729\n",
      "epoch: 13, loss: 1.0784293413162231\n",
      "epoch: 14, loss: 1.0756244659423828\n",
      "epoch: 15, loss: 1.072904348373413\n",
      "epoch: 16, loss: 1.0702663660049438\n",
      "epoch: 17, loss: 1.0677077770233154\n",
      "epoch: 18, loss: 1.0652257204055786\n",
      "epoch: 19, loss: 1.0628175735473633\n",
      "epoch: 20, loss: 1.0604808330535889\n",
      "epoch: 21, loss: 1.0582128763198853\n",
      "epoch: 22, loss: 1.0560113191604614\n",
      "epoch: 23, loss: 1.053873896598816\n",
      "epoch: 24, loss: 1.0517979860305786\n",
      "epoch: 25, loss: 1.0497814416885376\n",
      "epoch: 26, loss: 1.047822117805481\n",
      "epoch: 27, loss: 1.0459179878234863\n",
      "epoch: 28, loss: 1.0440667867660522\n",
      "epoch: 29, loss: 1.0422669649124146\n",
      "epoch: 30, loss: 1.0405161380767822\n",
      "epoch: 31, loss: 1.0388127565383911\n",
      "epoch: 32, loss: 1.0371549129486084\n",
      "epoch: 33, loss: 1.0355411767959595\n",
      "epoch: 34, loss: 1.0339696407318115\n",
      "epoch: 35, loss: 1.03243887424469\n",
      "epoch: 36, loss: 1.0309473276138306\n",
      "epoch: 37, loss: 1.0294935703277588\n",
      "epoch: 38, loss: 1.0280760526657104\n",
      "epoch: 39, loss: 1.0266939401626587\n",
      "epoch: 40, loss: 1.0253453254699707\n",
      "epoch: 41, loss: 1.02402925491333\n",
      "epoch: 42, loss: 1.0227445363998413\n",
      "epoch: 43, loss: 1.021490216255188\n",
      "epoch: 44, loss: 1.0202648639678955\n",
      "epoch: 45, loss: 1.0190675258636475\n",
      "epoch: 46, loss: 1.017897367477417\n",
      "epoch: 47, loss: 1.0167533159255981\n",
      "epoch: 48, loss: 1.015634298324585\n",
      "epoch: 49, loss: 1.0145395994186401\n",
      "epoch: 50, loss: 1.0134682655334473\n",
      "epoch: 51, loss: 1.0124194622039795\n",
      "epoch: 52, loss: 1.0113924741744995\n",
      "epoch: 53, loss: 1.01038658618927\n",
      "epoch: 54, loss: 1.0094009637832642\n",
      "epoch: 55, loss: 1.0084348917007446\n",
      "epoch: 56, loss: 1.0074877738952637\n",
      "epoch: 57, loss: 1.0065587759017944\n",
      "epoch: 58, loss: 1.0056476593017578\n",
      "epoch: 59, loss: 1.0047532320022583\n",
      "epoch: 60, loss: 1.003875494003296\n",
      "epoch: 61, loss: 1.0030136108398438\n",
      "epoch: 62, loss: 1.002166986465454\n",
      "epoch: 63, loss: 1.0013353824615479\n",
      "epoch: 64, loss: 1.0005179643630981\n",
      "epoch: 65, loss: 0.9997144341468811\n",
      "epoch: 66, loss: 0.9989243745803833\n",
      "epoch: 67, loss: 0.9981471300125122\n",
      "epoch: 68, loss: 0.997382640838623\n",
      "epoch: 69, loss: 0.9966301321983337\n",
      "epoch: 70, loss: 0.9958893656730652\n"
     ]
    }
   ],
   "source": [
    "for epoch in range(70):\n",
    "    y_hat = net(X)\n",
    "    l = loss(y_hat, target).sum()\n",
    "    \n",
    "    optimizer.zero_grad()\n",
    "    l.backward()\n",
    "    optimizer.step()\n",
    "    \n",
    "    print(f'epoch: {epoch + 1}, loss: {l}')"
   ]
  },
  {
   "cell_type": "code",
   "execution_count": null,
   "id": "e7125e6f",
   "metadata": {},
   "outputs": [],
   "source": []
  }
 ],
 "metadata": {
  "kernelspec": {
   "display_name": "Python 3 (ipykernel)",
   "language": "python",
   "name": "python3"
  },
  "language_info": {
   "codemirror_mode": {
    "name": "ipython",
    "version": 3
   },
   "file_extension": ".py",
   "mimetype": "text/x-python",
   "name": "python",
   "nbconvert_exporter": "python",
   "pygments_lexer": "ipython3",
   "version": "3.9.6"
  }
 },
 "nbformat": 4,
 "nbformat_minor": 5
}
