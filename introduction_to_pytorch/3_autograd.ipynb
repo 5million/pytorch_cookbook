{
 "cells": [
  {
   "cell_type": "code",
   "execution_count": 2,
   "id": "69d5f521",
   "metadata": {},
   "outputs": [
    {
     "data": {
      "text/plain": [
       "<torch._C.Generator at 0x7fb304206130>"
      ]
     },
     "execution_count": 2,
     "metadata": {},
     "output_type": "execute_result"
    }
   ],
   "source": [
    "import torch\n",
    "torch.manual_seed(7)"
   ]
  },
  {
   "cell_type": "code",
   "execution_count": 13,
   "id": "d59d346d",
   "metadata": {},
   "outputs": [
    {
     "name": "stdout",
     "output_type": "stream",
     "text": [
      "tensor([[0.0227, 0.0738, 0.0327],\n",
      "        [0.0227, 0.0738, 0.0327],\n",
      "        [0.0227, 0.0738, 0.0327],\n",
      "        [0.0227, 0.0738, 0.0327],\n",
      "        [0.0227, 0.0738, 0.0327]])\n",
      "tensor([0.0227, 0.0738, 0.0327])\n",
      "True\n",
      "False\n",
      "True\n",
      "False\n"
     ]
    }
   ],
   "source": [
    "x = torch.ones(5)  # input tensor\n",
    "y = torch.zeros(3)  # expected output\n",
    "w = torch.randn(5, 3, requires_grad=True)\n",
    "b = torch.randn(3, requires_grad=True)\n",
    "z = torch.matmul(x, w)+b\n",
    "loss = torch.nn.functional.binary_cross_entropy_with_logits(z, y)\n",
    "loss.backward()\n",
    "print(w.grad)\n",
    "print(b.grad)\n",
    "print(z.requires_grad)\n",
    "\n",
    "with torch.no_grad():\n",
    "    z = torch.matmul(x, w) + b\n",
    "print(z.requires_grad)\n",
    "\n",
    "z = torch.matmul(x, w) + b\n",
    "print(z.requires_grad)\n",
    "z_det = z.detach()\n",
    "print(z_det.requires_grad)"
   ]
  },
  {
   "cell_type": "markdown",
   "id": "e2a38b9f",
   "metadata": {},
   "source": [
    "torch.autograd.backward(tensors, grad_tensors=None, retain_graph=None, create_graph=False)\n",
    "\n",
    "功能：自动求取梯度\n",
    "* tensors：用于求导的张量，如 loss\n",
    "* retain_graph：保存计算图\n",
    "* create_graph：创建导数计算图，用于高阶求导\n",
    "* grad_tensors：多梯度权重"
   ]
  },
  {
   "cell_type": "code",
   "execution_count": 2,
   "id": "0620075b",
   "metadata": {},
   "outputs": [],
   "source": [
    "w = torch.tensor([1.], requires_grad=True)\n",
    "x = torch.tensor([2.], requires_grad=True)\n",
    "\n",
    "a = torch.add(w, x)\n",
    "b = torch.add(w, 1)\n",
    "c = torch.mul(a, b)\n",
    "\n",
    "c.backward(retain_graph=True)"
   ]
  },
  {
   "cell_type": "code",
   "execution_count": 3,
   "id": "38ddca32",
   "metadata": {},
   "outputs": [
    {
     "data": {
      "text/plain": [
       "tensor([5.])"
      ]
     },
     "execution_count": 3,
     "metadata": {},
     "output_type": "execute_result"
    }
   ],
   "source": [
    "# 2 + 3\n",
    "w.grad"
   ]
  },
  {
   "cell_type": "code",
   "execution_count": 6,
   "id": "94120c22",
   "metadata": {},
   "outputs": [
    {
     "data": {
      "text/plain": [
       "tensor([2.])"
      ]
     },
     "execution_count": 6,
     "metadata": {},
     "output_type": "execute_result"
    }
   ],
   "source": [
    "# 2\n",
    "x.grad"
   ]
  },
  {
   "cell_type": "markdown",
   "id": "efed7a6a",
   "metadata": {},
   "source": [
    "torch.autograd.grad(outputs, inputs, grad_outputs=None, retain_graph=None, create_graph=False)\n",
    "\n",
    "功能：求取梯度\n",
    "* outputs：用于求导的张量，如 loss\n",
    "* inputs：需要梯度的张量\n",
    "* create_graph：创建导数计算图，用于高阶求导\n",
    "* retain_graph：保存计算图\n",
    "* grad_outputs：多梯度权重"
   ]
  },
  {
   "cell_type": "markdown",
   "id": "177e5a51",
   "metadata": {},
   "source": [
    "Tips\n",
    "\n",
    "* 梯度不自动清零\n",
    "* 依赖于叶子节点的节点，requires_grad默认为True\n",
    "* 叶子节点不可执行in-place\n",
    "\n",
    "autograd包是PyTorch中所有神经网络的核心。\n",
    "\n",
    "* torch.Tensor是包的核心类。如果将其属性.requires_grad设置为True，则会开始跟踪针对tensor的所有操作。完成计算后，你可以调用.backward()来自动计算所有梯度。该张量的梯度将累积到.grad属性中。\n",
    "\n",
    "* 要停止tensor历史记录的跟踪，你可以调用.detach()，它将其与计算历史记录分离，并防止将来的计算被跟踪。\n",
    "\n",
    "* 要停止跟踪历史记录（和使用内存），你还可以将代码块使用with torch.no_grad()：包装起来。在评估模型时，这是特别有用，因为模型在训练阶段具有requires_grad=True的可训练参数有利于调参，但在评估阶段我们不需要梯度。\n",
    "\n",
    "* 还有一个类对于autograd实现非常重要那就是Function。Tensor和Function互相连接并构建一个非循环图，它保存整个完整的计算过程的历史信息。每个张量都有一个.grad_fn属性保存着创建了张量的Function的引用（如果用户自己创建张量，则grad_fn是None）。\n",
    "\n",
    "* 如果你想计算导数，你可以调用Tensor.backward()。如果Tensor是标量（即它包含一个元素数据），则不需要指定backward()的任何参数，但是如果它有更多元素，则需要指定一个gradient参数来指定张量的形状。"
   ]
  },
  {
   "cell_type": "code",
   "execution_count": 22,
   "id": "b475eb6d",
   "metadata": {},
   "outputs": [
    {
     "data": {
      "text/plain": [
       "tensor([-364.1600, 1261.9630,  141.4888], grad_fn=<MulBackward0>)"
      ]
     },
     "execution_count": 22,
     "metadata": {},
     "output_type": "execute_result"
    }
   ],
   "source": [
    "x = torch.randn(3, requires_grad=True)\n",
    "y = x * 2\n",
    "\n",
    "while y.data.norm() < 1000:\n",
    "    y = y * 2\n",
    "    \n",
    "y"
   ]
  },
  {
   "cell_type": "markdown",
   "id": "58d1ddd4",
   "metadata": {},
   "source": [
    "现在在这种情况下，y不再是一个标量。torch.autograd不能够直接计算整个雅可比，但是如果我们只想要雅可比向量积，只需要简单地传递向量给backward作为参数。"
   ]
  },
  {
   "cell_type": "code",
   "execution_count": 23,
   "id": "92310588",
   "metadata": {},
   "outputs": [
    {
     "data": {
      "text/plain": [
       "tensor([1.0240e+02, 1.0240e+03, 1.0240e-01])"
      ]
     },
     "execution_count": 23,
     "metadata": {},
     "output_type": "execute_result"
    }
   ],
   "source": [
    "y.backward(torch.tensor([0.1, 1.0, 0.0001], dtype=torch.float))\n",
    "\n",
    "x.grad"
   ]
  },
  {
   "cell_type": "markdown",
   "id": "9a21df15",
   "metadata": {},
   "source": [
    "你可以通过将代码包裹在with torch.no_grad()，来停止对从跟踪历史中的.requires_grad=True的张量自动求导。"
   ]
  },
  {
   "cell_type": "code",
   "execution_count": 26,
   "id": "979e3ea9",
   "metadata": {},
   "outputs": [
    {
     "name": "stdout",
     "output_type": "stream",
     "text": [
      "True\n",
      "True\n",
      "False\n"
     ]
    }
   ],
   "source": [
    "print(x.requires_grad)\n",
    "print((x ** 2).requires_grad)\n",
    "with torch.no_grad():\n",
    "    print((x ** 2).requires_grad)"
   ]
  },
  {
   "cell_type": "markdown",
   "id": "fb6218d9",
   "metadata": {},
   "source": [
    "求y = x^2的一阶偏导和二阶偏导。"
   ]
  },
  {
   "cell_type": "code",
   "execution_count": 27,
   "id": "e45e73cb",
   "metadata": {},
   "outputs": [],
   "source": [
    "x = torch.tensor([3.], requires_grad=True)\n",
    "y = torch.pow(x, 2)\n",
    "\n",
    "grad_1 = torch.autograd.grad(y, x, create_graph=True)\n",
    "grad_2 = torch.autograd.grad(grad_1[0], x)"
   ]
  },
  {
   "cell_type": "code",
   "execution_count": 28,
   "id": "5de422ea",
   "metadata": {},
   "outputs": [
    {
     "data": {
      "text/plain": [
       "(tensor([6.], grad_fn=<MulBackward0>),)"
      ]
     },
     "execution_count": 28,
     "metadata": {},
     "output_type": "execute_result"
    }
   ],
   "source": [
    "grad_1"
   ]
  },
  {
   "cell_type": "code",
   "execution_count": 29,
   "id": "c9472cf3",
   "metadata": {},
   "outputs": [
    {
     "data": {
      "text/plain": [
       "(tensor([2.]),)"
      ]
     },
     "execution_count": 29,
     "metadata": {},
     "output_type": "execute_result"
    }
   ],
   "source": [
    "grad_2"
   ]
  },
  {
   "cell_type": "code",
   "execution_count": null,
   "id": "e061ec89",
   "metadata": {},
   "outputs": [],
   "source": []
  }
 ],
 "metadata": {
  "kernelspec": {
   "display_name": "Python 3 (ipykernel)",
   "language": "python",
   "name": "python3"
  },
  "language_info": {
   "codemirror_mode": {
    "name": "ipython",
    "version": 3
   },
   "file_extension": ".py",
   "mimetype": "text/x-python",
   "name": "python",
   "nbconvert_exporter": "python",
   "pygments_lexer": "ipython3",
   "version": "3.9.6"
  }
 },
 "nbformat": 4,
 "nbformat_minor": 5
}
